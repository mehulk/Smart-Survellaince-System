{
  "nbformat": 4,
  "nbformat_minor": 0,
  "metadata": {
    "colab": {
      "name": "Feature_extraction_using_CNN.ipynb",
      "provenance": []
    },
    "kernelspec": {
      "name": "python3",
      "display_name": "Python 3"
    },
    "language_info": {
      "name": "python"
    },
    "accelerator": "GPU"
  },
  "cells": [
    {
      "cell_type": "code",
      "execution_count": 21,
      "metadata": {
        "colab": {
          "base_uri": "https://localhost:8080/"
        },
        "id": "4QBSA6fsk_mt",
        "outputId": "ddba5e6c-814d-4bf2-eaf8-6c6a133c0f54"
      },
      "outputs": [
        {
          "output_type": "stream",
          "name": "stdout",
          "text": [
            "Using Tensorflow 2.7.0\n",
            "\n"
          ]
        }
      ],
      "source": [
        "import tensorflow as tf\n",
        "\n",
        "\n",
        "# Check tensorflow version\n",
        "print(\"Using Tensorflow %s\\n\" % (tf.__version__))"
      ]
    },
    {
      "cell_type": "code",
      "source": [
        "from google.colab import drive\n",
        "drive.mount('/content/gdrive')"
      ],
      "metadata": {
        "colab": {
          "base_uri": "https://localhost:8080/"
        },
        "id": "bn5ACRI6lDgv",
        "outputId": "bb1663fd-b14c-4ac2-8081-3ce18cf7ac0e"
      },
      "execution_count": 22,
      "outputs": [
        {
          "output_type": "stream",
          "name": "stdout",
          "text": [
            "Drive already mounted at /content/gdrive; to attempt to forcibly remount, call drive.mount(\"/content/gdrive\", force_remount=True).\n"
          ]
        }
      ]
    },
    {
      "cell_type": "code",
      "source": [
        "import numpy as np\n",
        "import os\n",
        "import keras\n",
        "from keras.preprocessing import image\n",
        "from keras import Model\n",
        "from keras.models import load_model"
      ],
      "metadata": {
        "id": "QoxTSMxBlDjY"
      },
      "execution_count": 23,
      "outputs": []
    },
    {
      "cell_type": "code",
      "source": [
        "model = load_model(\"/content/gdrive/MyDrive/HAR_CCTV_Models/standford40_tvt_ds_seed_13_mobileNet_ann_added_04.h5\")\n",
        "#standford40_tvt_ds_seed_13_inceptionResnet_ann_added_02"
      ],
      "metadata": {
        "id": "UsXkMpbplDlj"
      },
      "execution_count": 24,
      "outputs": []
    },
    {
      "cell_type": "code",
      "source": [
        "model.summary();"
      ],
      "metadata": {
        "colab": {
          "base_uri": "https://localhost:8080/"
        },
        "id": "8x86xnZklDn4",
        "outputId": "fed0a480-b4e5-4833-c01f-c3b7fca047ed"
      },
      "execution_count": 25,
      "outputs": [
        {
          "output_type": "stream",
          "name": "stdout",
          "text": [
            "Model: \"sequential_2\"\n",
            "_________________________________________________________________\n",
            " Layer (type)                Output Shape              Param #   \n",
            "=================================================================\n",
            " mobilenetv2_1.00_224 (Funct  (None, 16, 16, 1280)     2257984   \n",
            " ional)                                                          \n",
            "                                                                 \n",
            " ClassConv (Conv2D)          (None, 16, 16, 1024)      11797504  \n",
            "                                                                 \n",
            " GAP (GlobalAveragePooling2D  (None, 1024)             0         \n",
            " )                                                               \n",
            "                                                                 \n",
            " fc-1 (Dense)                (None, 2048)              2099200   \n",
            "                                                                 \n",
            " dropout_4 (Dropout)         (None, 2048)              0         \n",
            "                                                                 \n",
            " fc-2 (Dense)                (None, 1024)              2098176   \n",
            "                                                                 \n",
            " dropout_5 (Dropout)         (None, 1024)              0         \n",
            "                                                                 \n",
            " class (Dense)               (None, 40)                41000     \n",
            "                                                                 \n",
            "=================================================================\n",
            "Total params: 18,293,864\n",
            "Trainable params: 16,035,880\n",
            "Non-trainable params: 2,257,984\n",
            "_________________________________________________________________\n"
          ]
        }
      ]
    },
    {
      "cell_type": "code",
      "source": [
        "layer_name = 'fc-2'\n",
        "intermediate_layer_model = Model(inputs=model.input,\n",
        "                                 outputs=model.get_layer(layer_name).output)\n",
        "intermediate_layer_model.summary()"
      ],
      "metadata": {
        "colab": {
          "base_uri": "https://localhost:8080/"
        },
        "id": "VEiCes5llDqQ",
        "outputId": "99dd3bd3-c57b-44f2-8139-1da46953af84"
      },
      "execution_count": 26,
      "outputs": [
        {
          "output_type": "stream",
          "name": "stdout",
          "text": [
            "Model: \"model_1\"\n",
            "_________________________________________________________________\n",
            " Layer (type)                Output Shape              Param #   \n",
            "=================================================================\n",
            " mobilenetv2_1.00_224_input   [(None, 500, 500, 3)]    0         \n",
            " (InputLayer)                                                    \n",
            "                                                                 \n",
            " mobilenetv2_1.00_224 (Funct  (None, 16, 16, 1280)     2257984   \n",
            " ional)                                                          \n",
            "                                                                 \n",
            " ClassConv (Conv2D)          (None, 16, 16, 1024)      11797504  \n",
            "                                                                 \n",
            " GAP (GlobalAveragePooling2D  (None, 1024)             0         \n",
            " )                                                               \n",
            "                                                                 \n",
            " fc-1 (Dense)                (None, 2048)              2099200   \n",
            "                                                                 \n",
            " dropout_4 (Dropout)         (None, 2048)              0         \n",
            "                                                                 \n",
            " fc-2 (Dense)                (None, 1024)              2098176   \n",
            "                                                                 \n",
            "=================================================================\n",
            "Total params: 18,252,864\n",
            "Trainable params: 15,994,880\n",
            "Non-trainable params: 2,257,984\n",
            "_________________________________________________________________\n"
          ]
        }
      ]
    },
    {
      "cell_type": "markdown",
      "source": [
        "Iterate through all test and val images and extract features using trained CNN model"
      ],
      "metadata": {
        "id": "eRJjBVImlS4K"
      }
    },
    {
      "cell_type": "code",
      "source": [
        "def prepare_image(file):\n",
        "    img = image.load_img(file,target_size=(500,500));\n",
        "    img_array = image.img_to_array(img);\n",
        "    img_array_expanded_dims = np.expand_dims(img_array,axis=0);\n",
        "    return keras.applications.mobilenet.preprocess_input(img_array_expanded_dims)\n"
      ],
      "metadata": {
        "id": "mBEmQPpXlR2s"
      },
      "execution_count": 27,
      "outputs": []
    },
    {
      "cell_type": "code",
      "source": [
        "X_train = np.zeros((6665,1024));\n",
        "y_train = np.zeros((6665));\n",
        "X_val = np.zeros((1417,1024));\n",
        "y_val = np.zeros((1417))\n",
        "X_test = np.zeros((1450,1024));\n",
        "y_test = np.zeros((1450))"
      ],
      "metadata": {
        "id": "wr9kYT0BlDsY"
      },
      "execution_count": 28,
      "outputs": []
    },
    {
      "cell_type": "code",
      "source": [
        "labels = [\"applauding\", \"blowing_bubbles\", \"brushing_teeth\", \"cleaning_the_floor\", \"climbing\",\n",
        "               \"cooking\", \"cutting_trees\", \"cutting_vegetables\", \"drinking\", \"feeding_a_horse\", \"fishing\",\n",
        "               \"fixing_a_bike\",\"fixing_a_car\", \"gardening\", \"holding_an_umbrella\", \"jumping\", \"looking_through_a_microscope\",\n",
        "               \"looking_through_a_telescope\", \"phoning\", \"playing_guitar\", \"playing_violin\", \"pouring_liquid\", \"pushing_a_cart\",\n",
        "               \"reading\", \"riding_a_bike\", \"riding_a_horse\", \"rowing_a_boat\", \"running\", \"shooting_an_arrow\", \"smoking\", \"taking_photos\",\n",
        "               \"texting_message\", \"throwing_frisby\", \"using_a_computer\", \"walking_the_dog\", \"washing_dishes\", \"watching_TV\", \"waving_hands\",\n",
        "               \"writing_on_a_board\", \"writing_on_a_book\"]"
      ],
      "metadata": {
        "id": "XpQeHh9Jnpwi"
      },
      "execution_count": 29,
      "outputs": []
    },
    {
      "cell_type": "code",
      "source": [
        "labels[0]"
      ],
      "metadata": {
        "colab": {
          "base_uri": "https://localhost:8080/",
          "height": 35
        },
        "id": "D-oakOzwpRTj",
        "outputId": "e8f31258-49bd-4b8f-df2b-2f3847a3d86d"
      },
      "execution_count": 30,
      "outputs": [
        {
          "output_type": "execute_result",
          "data": {
            "application/vnd.google.colaboratory.intrinsic+json": {
              "type": "string"
            },
            "text/plain": [
              "'applauding'"
            ]
          },
          "metadata": {},
          "execution_count": 30
        }
      ]
    },
    {
      "cell_type": "code",
      "source": [
        "i=0;\n",
        "count = 0;\n",
        "for activity in range(0,40):\n",
        "    img_path='/content/gdrive/MyDrive/standford40_tvt_ds_seed_13/train/%s/' %(labels[activity]);\n",
        "    print(img_path)\n",
        "    count = count+1;\n",
        "    print(count)\n",
        "    for filename in os.listdir(img_path):\n",
        "        if filename.endswith(\".jpg\"):\n",
        "            img = prepare_image(img_path+filename);\n",
        "            feat = intermediate_layer_model.predict(img);\n",
        "            X_train[i]=feat;\n",
        "            y_train[i]=activity;\n",
        "            i = i+1;\n",
        "            continue\n",
        "        else:\n",
        "            continue            \n",
        "    \n",
        "                      \n",
        "           "
      ],
      "metadata": {
        "colab": {
          "base_uri": "https://localhost:8080/"
        },
        "id": "i77xTSRWoBhD",
        "outputId": "3d061173-8cf5-4bef-d63a-bf93f8da655f"
      },
      "execution_count": 31,
      "outputs": [
        {
          "output_type": "stream",
          "name": "stdout",
          "text": [
            "/content/gdrive/MyDrive/standford40_tvt_ds_seed_13/train/applauding/\n",
            "1\n",
            "/content/gdrive/MyDrive/standford40_tvt_ds_seed_13/train/blowing_bubbles/\n",
            "2\n",
            "/content/gdrive/MyDrive/standford40_tvt_ds_seed_13/train/brushing_teeth/\n",
            "3\n",
            "/content/gdrive/MyDrive/standford40_tvt_ds_seed_13/train/cleaning_the_floor/\n",
            "4\n",
            "/content/gdrive/MyDrive/standford40_tvt_ds_seed_13/train/climbing/\n",
            "5\n",
            "/content/gdrive/MyDrive/standford40_tvt_ds_seed_13/train/cooking/\n",
            "6\n",
            "/content/gdrive/MyDrive/standford40_tvt_ds_seed_13/train/cutting_trees/\n",
            "7\n",
            "/content/gdrive/MyDrive/standford40_tvt_ds_seed_13/train/cutting_vegetables/\n",
            "8\n",
            "/content/gdrive/MyDrive/standford40_tvt_ds_seed_13/train/drinking/\n",
            "9\n",
            "/content/gdrive/MyDrive/standford40_tvt_ds_seed_13/train/feeding_a_horse/\n",
            "10\n",
            "/content/gdrive/MyDrive/standford40_tvt_ds_seed_13/train/fishing/\n",
            "11\n",
            "/content/gdrive/MyDrive/standford40_tvt_ds_seed_13/train/fixing_a_bike/\n",
            "12\n",
            "/content/gdrive/MyDrive/standford40_tvt_ds_seed_13/train/fixing_a_car/\n",
            "13\n",
            "/content/gdrive/MyDrive/standford40_tvt_ds_seed_13/train/gardening/\n",
            "14\n",
            "/content/gdrive/MyDrive/standford40_tvt_ds_seed_13/train/holding_an_umbrella/\n",
            "15\n",
            "/content/gdrive/MyDrive/standford40_tvt_ds_seed_13/train/jumping/\n",
            "16\n",
            "/content/gdrive/MyDrive/standford40_tvt_ds_seed_13/train/looking_through_a_microscope/\n",
            "17\n",
            "/content/gdrive/MyDrive/standford40_tvt_ds_seed_13/train/looking_through_a_telescope/\n",
            "18\n",
            "/content/gdrive/MyDrive/standford40_tvt_ds_seed_13/train/phoning/\n",
            "19\n",
            "/content/gdrive/MyDrive/standford40_tvt_ds_seed_13/train/playing_guitar/\n",
            "20\n",
            "/content/gdrive/MyDrive/standford40_tvt_ds_seed_13/train/playing_violin/\n",
            "21\n",
            "/content/gdrive/MyDrive/standford40_tvt_ds_seed_13/train/pouring_liquid/\n",
            "22\n",
            "/content/gdrive/MyDrive/standford40_tvt_ds_seed_13/train/pushing_a_cart/\n",
            "23\n",
            "/content/gdrive/MyDrive/standford40_tvt_ds_seed_13/train/reading/\n",
            "24\n",
            "/content/gdrive/MyDrive/standford40_tvt_ds_seed_13/train/riding_a_bike/\n",
            "25\n",
            "/content/gdrive/MyDrive/standford40_tvt_ds_seed_13/train/riding_a_horse/\n",
            "26\n",
            "/content/gdrive/MyDrive/standford40_tvt_ds_seed_13/train/rowing_a_boat/\n",
            "27\n",
            "/content/gdrive/MyDrive/standford40_tvt_ds_seed_13/train/running/\n",
            "28\n",
            "/content/gdrive/MyDrive/standford40_tvt_ds_seed_13/train/shooting_an_arrow/\n",
            "29\n",
            "/content/gdrive/MyDrive/standford40_tvt_ds_seed_13/train/smoking/\n",
            "30\n",
            "/content/gdrive/MyDrive/standford40_tvt_ds_seed_13/train/taking_photos/\n",
            "31\n",
            "/content/gdrive/MyDrive/standford40_tvt_ds_seed_13/train/texting_message/\n",
            "32\n",
            "/content/gdrive/MyDrive/standford40_tvt_ds_seed_13/train/throwing_frisby/\n",
            "33\n",
            "/content/gdrive/MyDrive/standford40_tvt_ds_seed_13/train/using_a_computer/\n",
            "34\n",
            "/content/gdrive/MyDrive/standford40_tvt_ds_seed_13/train/walking_the_dog/\n",
            "35\n",
            "/content/gdrive/MyDrive/standford40_tvt_ds_seed_13/train/washing_dishes/\n",
            "36\n",
            "/content/gdrive/MyDrive/standford40_tvt_ds_seed_13/train/watching_TV/\n",
            "37\n",
            "/content/gdrive/MyDrive/standford40_tvt_ds_seed_13/train/waving_hands/\n",
            "38\n",
            "/content/gdrive/MyDrive/standford40_tvt_ds_seed_13/train/writing_on_a_board/\n",
            "39\n",
            "/content/gdrive/MyDrive/standford40_tvt_ds_seed_13/train/writing_on_a_book/\n",
            "40\n"
          ]
        }
      ]
    },
    {
      "cell_type": "code",
      "source": [
        "i=0;\n",
        "count = 0;\n",
        "for activity in range(0,40):\n",
        "    img_path='/content/gdrive/MyDrive/standford40_tvt_ds_seed_13/validation/%s/' %(labels[activity]);\n",
        "    print(img_path)\n",
        "    count = count+1;\n",
        "    print(count)\n",
        "    for filename in os.listdir(img_path):\n",
        "        if filename.endswith(\".jpg\"):\n",
        "            img = prepare_image(img_path+filename);\n",
        "            feat = intermediate_layer_model.predict(img);\n",
        "            X_val[i]=feat;\n",
        "            y_val[i]=activity;\n",
        "            i = i+1;\n",
        "            continue\n",
        "        else:\n",
        "            continue   "
      ],
      "metadata": {
        "colab": {
          "base_uri": "https://localhost:8080/"
        },
        "id": "y-DYBCPAqF9t",
        "outputId": "0855c959-a1c6-4291-fc3d-e5d9617ee24b"
      },
      "execution_count": 32,
      "outputs": [
        {
          "output_type": "stream",
          "name": "stdout",
          "text": [
            "/content/gdrive/MyDrive/standford40_tvt_ds_seed_13/validation/applauding/\n",
            "1\n",
            "/content/gdrive/MyDrive/standford40_tvt_ds_seed_13/validation/blowing_bubbles/\n",
            "2\n",
            "/content/gdrive/MyDrive/standford40_tvt_ds_seed_13/validation/brushing_teeth/\n",
            "3\n",
            "/content/gdrive/MyDrive/standford40_tvt_ds_seed_13/validation/cleaning_the_floor/\n",
            "4\n",
            "/content/gdrive/MyDrive/standford40_tvt_ds_seed_13/validation/climbing/\n",
            "5\n",
            "/content/gdrive/MyDrive/standford40_tvt_ds_seed_13/validation/cooking/\n",
            "6\n",
            "/content/gdrive/MyDrive/standford40_tvt_ds_seed_13/validation/cutting_trees/\n",
            "7\n",
            "/content/gdrive/MyDrive/standford40_tvt_ds_seed_13/validation/cutting_vegetables/\n",
            "8\n",
            "/content/gdrive/MyDrive/standford40_tvt_ds_seed_13/validation/drinking/\n",
            "9\n",
            "/content/gdrive/MyDrive/standford40_tvt_ds_seed_13/validation/feeding_a_horse/\n",
            "10\n",
            "/content/gdrive/MyDrive/standford40_tvt_ds_seed_13/validation/fishing/\n",
            "11\n",
            "/content/gdrive/MyDrive/standford40_tvt_ds_seed_13/validation/fixing_a_bike/\n",
            "12\n",
            "/content/gdrive/MyDrive/standford40_tvt_ds_seed_13/validation/fixing_a_car/\n",
            "13\n",
            "/content/gdrive/MyDrive/standford40_tvt_ds_seed_13/validation/gardening/\n",
            "14\n",
            "/content/gdrive/MyDrive/standford40_tvt_ds_seed_13/validation/holding_an_umbrella/\n",
            "15\n",
            "/content/gdrive/MyDrive/standford40_tvt_ds_seed_13/validation/jumping/\n",
            "16\n",
            "/content/gdrive/MyDrive/standford40_tvt_ds_seed_13/validation/looking_through_a_microscope/\n",
            "17\n",
            "/content/gdrive/MyDrive/standford40_tvt_ds_seed_13/validation/looking_through_a_telescope/\n",
            "18\n",
            "/content/gdrive/MyDrive/standford40_tvt_ds_seed_13/validation/phoning/\n",
            "19\n",
            "/content/gdrive/MyDrive/standford40_tvt_ds_seed_13/validation/playing_guitar/\n",
            "20\n",
            "/content/gdrive/MyDrive/standford40_tvt_ds_seed_13/validation/playing_violin/\n",
            "21\n",
            "/content/gdrive/MyDrive/standford40_tvt_ds_seed_13/validation/pouring_liquid/\n",
            "22\n",
            "/content/gdrive/MyDrive/standford40_tvt_ds_seed_13/validation/pushing_a_cart/\n",
            "23\n",
            "/content/gdrive/MyDrive/standford40_tvt_ds_seed_13/validation/reading/\n",
            "24\n",
            "/content/gdrive/MyDrive/standford40_tvt_ds_seed_13/validation/riding_a_bike/\n",
            "25\n",
            "/content/gdrive/MyDrive/standford40_tvt_ds_seed_13/validation/riding_a_horse/\n",
            "26\n",
            "/content/gdrive/MyDrive/standford40_tvt_ds_seed_13/validation/rowing_a_boat/\n",
            "27\n",
            "/content/gdrive/MyDrive/standford40_tvt_ds_seed_13/validation/running/\n",
            "28\n",
            "/content/gdrive/MyDrive/standford40_tvt_ds_seed_13/validation/shooting_an_arrow/\n",
            "29\n",
            "/content/gdrive/MyDrive/standford40_tvt_ds_seed_13/validation/smoking/\n",
            "30\n",
            "/content/gdrive/MyDrive/standford40_tvt_ds_seed_13/validation/taking_photos/\n",
            "31\n",
            "/content/gdrive/MyDrive/standford40_tvt_ds_seed_13/validation/texting_message/\n",
            "32\n",
            "/content/gdrive/MyDrive/standford40_tvt_ds_seed_13/validation/throwing_frisby/\n",
            "33\n",
            "/content/gdrive/MyDrive/standford40_tvt_ds_seed_13/validation/using_a_computer/\n",
            "34\n",
            "/content/gdrive/MyDrive/standford40_tvt_ds_seed_13/validation/walking_the_dog/\n",
            "35\n",
            "/content/gdrive/MyDrive/standford40_tvt_ds_seed_13/validation/washing_dishes/\n",
            "36\n",
            "/content/gdrive/MyDrive/standford40_tvt_ds_seed_13/validation/watching_TV/\n",
            "37\n",
            "/content/gdrive/MyDrive/standford40_tvt_ds_seed_13/validation/waving_hands/\n",
            "38\n",
            "/content/gdrive/MyDrive/standford40_tvt_ds_seed_13/validation/writing_on_a_board/\n",
            "39\n",
            "/content/gdrive/MyDrive/standford40_tvt_ds_seed_13/validation/writing_on_a_book/\n",
            "40\n"
          ]
        }
      ]
    },
    {
      "cell_type": "code",
      "source": [
        "i=0;\n",
        "count = 0;\n",
        "for activity in range(0,40):\n",
        "    img_path='/content/gdrive/MyDrive/standford40_tvt_ds_seed_13/test/%s/' %(labels[activity]);\n",
        "    print(img_path)\n",
        "    count = count+1;\n",
        "    print(count)\n",
        "    for filename in os.listdir(img_path):\n",
        "        if filename.endswith(\".jpg\"):\n",
        "            img = prepare_image(img_path+filename);\n",
        "            feat = intermediate_layer_model.predict(img);\n",
        "            X_test[i]=feat;\n",
        "            y_test[i]=activity;\n",
        "            i = i+1;\n",
        "            continue\n",
        "        else:\n",
        "            continue   "
      ],
      "metadata": {
        "colab": {
          "base_uri": "https://localhost:8080/"
        },
        "id": "19hDR1XcoBji",
        "outputId": "61442905-2621-4cab-8efc-fe49cf63d679"
      },
      "execution_count": 33,
      "outputs": [
        {
          "output_type": "stream",
          "name": "stdout",
          "text": [
            "/content/gdrive/MyDrive/standford40_tvt_ds_seed_13/test/applauding/\n",
            "1\n",
            "/content/gdrive/MyDrive/standford40_tvt_ds_seed_13/test/blowing_bubbles/\n",
            "2\n",
            "/content/gdrive/MyDrive/standford40_tvt_ds_seed_13/test/brushing_teeth/\n",
            "3\n",
            "/content/gdrive/MyDrive/standford40_tvt_ds_seed_13/test/cleaning_the_floor/\n",
            "4\n",
            "/content/gdrive/MyDrive/standford40_tvt_ds_seed_13/test/climbing/\n",
            "5\n",
            "/content/gdrive/MyDrive/standford40_tvt_ds_seed_13/test/cooking/\n",
            "6\n",
            "/content/gdrive/MyDrive/standford40_tvt_ds_seed_13/test/cutting_trees/\n",
            "7\n",
            "/content/gdrive/MyDrive/standford40_tvt_ds_seed_13/test/cutting_vegetables/\n",
            "8\n",
            "/content/gdrive/MyDrive/standford40_tvt_ds_seed_13/test/drinking/\n",
            "9\n",
            "/content/gdrive/MyDrive/standford40_tvt_ds_seed_13/test/feeding_a_horse/\n",
            "10\n",
            "/content/gdrive/MyDrive/standford40_tvt_ds_seed_13/test/fishing/\n",
            "11\n",
            "/content/gdrive/MyDrive/standford40_tvt_ds_seed_13/test/fixing_a_bike/\n",
            "12\n",
            "/content/gdrive/MyDrive/standford40_tvt_ds_seed_13/test/fixing_a_car/\n",
            "13\n",
            "/content/gdrive/MyDrive/standford40_tvt_ds_seed_13/test/gardening/\n",
            "14\n",
            "/content/gdrive/MyDrive/standford40_tvt_ds_seed_13/test/holding_an_umbrella/\n",
            "15\n",
            "/content/gdrive/MyDrive/standford40_tvt_ds_seed_13/test/jumping/\n",
            "16\n",
            "/content/gdrive/MyDrive/standford40_tvt_ds_seed_13/test/looking_through_a_microscope/\n",
            "17\n",
            "/content/gdrive/MyDrive/standford40_tvt_ds_seed_13/test/looking_through_a_telescope/\n",
            "18\n",
            "/content/gdrive/MyDrive/standford40_tvt_ds_seed_13/test/phoning/\n",
            "19\n",
            "/content/gdrive/MyDrive/standford40_tvt_ds_seed_13/test/playing_guitar/\n",
            "20\n",
            "/content/gdrive/MyDrive/standford40_tvt_ds_seed_13/test/playing_violin/\n",
            "21\n",
            "/content/gdrive/MyDrive/standford40_tvt_ds_seed_13/test/pouring_liquid/\n",
            "22\n",
            "/content/gdrive/MyDrive/standford40_tvt_ds_seed_13/test/pushing_a_cart/\n",
            "23\n",
            "/content/gdrive/MyDrive/standford40_tvt_ds_seed_13/test/reading/\n",
            "24\n",
            "/content/gdrive/MyDrive/standford40_tvt_ds_seed_13/test/riding_a_bike/\n",
            "25\n",
            "/content/gdrive/MyDrive/standford40_tvt_ds_seed_13/test/riding_a_horse/\n",
            "26\n",
            "/content/gdrive/MyDrive/standford40_tvt_ds_seed_13/test/rowing_a_boat/\n",
            "27\n",
            "/content/gdrive/MyDrive/standford40_tvt_ds_seed_13/test/running/\n",
            "28\n",
            "/content/gdrive/MyDrive/standford40_tvt_ds_seed_13/test/shooting_an_arrow/\n",
            "29\n",
            "/content/gdrive/MyDrive/standford40_tvt_ds_seed_13/test/smoking/\n",
            "30\n",
            "/content/gdrive/MyDrive/standford40_tvt_ds_seed_13/test/taking_photos/\n",
            "31\n",
            "/content/gdrive/MyDrive/standford40_tvt_ds_seed_13/test/texting_message/\n",
            "32\n",
            "/content/gdrive/MyDrive/standford40_tvt_ds_seed_13/test/throwing_frisby/\n",
            "33\n",
            "/content/gdrive/MyDrive/standford40_tvt_ds_seed_13/test/using_a_computer/\n",
            "34\n",
            "/content/gdrive/MyDrive/standford40_tvt_ds_seed_13/test/walking_the_dog/\n",
            "35\n",
            "/content/gdrive/MyDrive/standford40_tvt_ds_seed_13/test/washing_dishes/\n",
            "36\n",
            "/content/gdrive/MyDrive/standford40_tvt_ds_seed_13/test/watching_TV/\n",
            "37\n",
            "/content/gdrive/MyDrive/standford40_tvt_ds_seed_13/test/waving_hands/\n",
            "38\n",
            "/content/gdrive/MyDrive/standford40_tvt_ds_seed_13/test/writing_on_a_board/\n",
            "39\n",
            "/content/gdrive/MyDrive/standford40_tvt_ds_seed_13/test/writing_on_a_book/\n",
            "40\n"
          ]
        }
      ]
    },
    {
      "cell_type": "code",
      "source": [
        ""
      ],
      "metadata": {
        "id": "pJ3k4SU0NTYd"
      },
      "execution_count": null,
      "outputs": []
    },
    {
      "cell_type": "code",
      "source": [
        "import matplotlib.pyplot as plt\n",
        "import scipy.io"
      ],
      "metadata": {
        "id": "G_DetltboBmL"
      },
      "execution_count": 34,
      "outputs": []
    },
    {
      "cell_type": "code",
      "source": [
        "'''Preprocessing'''\n",
        "from sklearn.preprocessing import StandardScaler\n",
        "sc_X = StandardScaler();\n",
        "X_train = sc_X.fit_transform(X_train);\n",
        "X_val = sc_X.transform(X_val);\n",
        "X_test = sc_X.transform(X_test);\n",
        "\n",
        "'''classifier_cnn '''\n",
        "from sklearn.svm import SVC\n",
        "classifier = SVC(C=100, kernel='rbf', probability=True);\n",
        "classifier.fit(X_train,y_train)\n",
        "y_pred_train = classifier.predict(X_train);\n"
      ],
      "metadata": {
        "id": "x_tCDZwgrq-0"
      },
      "execution_count": 35,
      "outputs": []
    },
    {
      "cell_type": "code",
      "source": [
        "'''For Training Data '''\n",
        "from sklearn.metrics import accuracy_score, classification_report,confusion_matrix\n",
        "print(\"\\nFor training data:\\t\");\n",
        "print(classification_report(y_train,y_pred_train));\n",
        "print(accuracy_score(y_train,y_pred_train));\n",
        "cm_train = confusion_matrix(y_train,y_pred_train);\n",
        "#plt.matshow(cm_train)\n",
        "\n",
        "#%%\n",
        "\n",
        "''' For Testing Data'''\n",
        "y_pred_test = classifier.predict(X_test);\n",
        "print(\"\\nFor test data:\\t\");\n",
        "print(classification_report(y_test,y_pred_test));\n",
        "print(accuracy_score(y_test,y_pred_test));\n",
        "cm_test = confusion_matrix(y_test,y_pred_test);\n",
        "plt.matshow(cm_test)"
      ],
      "metadata": {
        "colab": {
          "base_uri": "https://localhost:8080/",
          "height": 1000
        },
        "id": "efqe6LtKrrA9",
        "outputId": "281cb3e7-9424-44ef-ff8f-6334ac4e0c7b"
      },
      "execution_count": 36,
      "outputs": [
        {
          "output_type": "stream",
          "name": "stdout",
          "text": [
            "\n",
            "For training data:\t\n",
            "              precision    recall  f1-score   support\n",
            "\n",
            "         0.0       1.00      1.00      1.00       188\n",
            "         1.0       1.00      1.00      1.00       180\n",
            "         2.0       1.00      1.00      1.00       131\n",
            "         3.0       1.00      1.00      1.00       159\n",
            "         4.0       1.00      1.00      1.00       199\n",
            "         5.0       1.00      1.00      1.00       214\n",
            "         6.0       1.00      1.00      1.00       153\n",
            "         7.0       1.00      1.00      1.00       139\n",
            "         8.0       1.00      1.00      1.00       175\n",
            "         9.0       1.00      1.00      1.00       210\n",
            "        10.0       1.00      1.00      1.00       186\n",
            "        11.0       1.00      1.00      1.00       154\n",
            "        12.0       1.00      1.00      1.00       172\n",
            "        13.0       1.00      1.00      1.00       126\n",
            "        14.0       1.00      1.00      1.00       200\n",
            "        15.0       1.00      1.00      1.00       207\n",
            "        16.0       1.00      1.00      1.00       129\n",
            "        17.0       1.00      1.00      1.00       140\n",
            "        18.0       1.00      1.00      1.00       179\n",
            "        19.0       1.00      1.00      1.00       190\n",
            "        20.0       1.00      1.00      1.00       195\n",
            "        21.0       1.00      1.00      1.00       140\n",
            "        22.0       1.00      1.00      1.00       169\n",
            "        23.0       1.00      1.00      1.00       153\n",
            "        24.0       1.00      1.00      1.00       217\n",
            "        25.0       1.00      1.00      1.00       198\n",
            "        26.0       1.00      1.00      1.00       133\n",
            "        27.0       1.00      1.00      1.00       182\n",
            "        28.0       1.00      1.00      1.00       161\n",
            "        29.0       1.00      1.00      1.00       172\n",
            "        30.0       1.00      1.00      1.00       135\n",
            "        31.0       1.00      1.00      1.00       134\n",
            "        32.0       1.00      1.00      1.00       132\n",
            "        33.0       1.00      1.00      1.00       175\n",
            "        34.0       1.00      1.00      1.00       198\n",
            "        35.0       1.00      1.00      1.00       127\n",
            "        36.0       1.00      1.00      1.00       167\n",
            "        37.0       1.00      1.00      1.00       144\n",
            "        38.0       1.00      1.00      1.00       129\n",
            "        39.0       1.00      1.00      1.00       173\n",
            "\n",
            "    accuracy                           1.00      6665\n",
            "   macro avg       1.00      1.00      1.00      6665\n",
            "weighted avg       1.00      1.00      1.00      6665\n",
            "\n",
            "1.0\n",
            "\n",
            "For test data:\t\n",
            "              precision    recall  f1-score   support\n",
            "\n",
            "         0.0       0.58      0.70      0.63        47\n",
            "         1.0       0.72      0.78      0.75        37\n",
            "         2.0       0.71      0.67      0.69        36\n",
            "         3.0       0.96      0.86      0.91        28\n",
            "         4.0       0.82      1.00      0.90        46\n",
            "         5.0       0.71      0.86      0.78        37\n",
            "         6.0       0.81      0.79      0.80        33\n",
            "         7.0       0.66      0.72      0.69        29\n",
            "         8.0       0.53      0.47      0.50        40\n",
            "         9.0       0.95      0.78      0.86        23\n",
            "        10.0       0.81      0.94      0.87        47\n",
            "        11.0       0.90      0.84      0.87        43\n",
            "        12.0       0.85      0.87      0.86        38\n",
            "        13.0       0.72      0.68      0.70        38\n",
            "        14.0       0.85      0.95      0.90        43\n",
            "        15.0       0.83      0.79      0.81        48\n",
            "        16.0       0.68      0.68      0.68        31\n",
            "        17.0       0.80      0.59      0.68        34\n",
            "        18.0       0.44      0.37      0.40        41\n",
            "        19.0       0.92      0.94      0.93        50\n",
            "        20.0       0.93      0.82      0.87        34\n",
            "        21.0       0.52      0.50      0.51        26\n",
            "        22.0       0.72      0.76      0.74        34\n",
            "        23.0       0.60      0.51      0.55        53\n",
            "        24.0       0.90      0.90      0.90        41\n",
            "        25.0       0.90      0.96      0.93        49\n",
            "        26.0       0.95      0.81      0.88        26\n",
            "        27.0       0.66      0.78      0.71        32\n",
            "        28.0       0.83      0.86      0.85        29\n",
            "        29.0       0.53      0.60      0.56        40\n",
            "        30.0       0.50      0.41      0.45        29\n",
            "        31.0       0.35      0.40      0.37        35\n",
            "        32.0       0.88      0.64      0.74        36\n",
            "        33.0       0.55      0.71      0.62        24\n",
            "        34.0       0.92      0.90      0.91        52\n",
            "        35.0       0.65      0.56      0.60        27\n",
            "        36.0       0.92      0.89      0.91        27\n",
            "        37.0       0.31      0.36      0.33        25\n",
            "        38.0       0.58      0.58      0.58        24\n",
            "        39.0       0.78      0.66      0.71        38\n",
            "\n",
            "    accuracy                           0.74      1450\n",
            "   macro avg       0.73      0.72      0.72      1450\n",
            "weighted avg       0.74      0.74      0.73      1450\n",
            "\n",
            "0.7351724137931035\n"
          ]
        },
        {
          "output_type": "execute_result",
          "data": {
            "text/plain": [
              "<matplotlib.image.AxesImage at 0x7f7860560ed0>"
            ]
          },
          "metadata": {},
          "execution_count": 36
        },
        {
          "output_type": "display_data",
          "data": {
            "image/png": "[encoded data removed]",
            "text/plain": [
              "<Figure size 288x288 with 1 Axes>"
            ]
          },
          "metadata": {
            "needs_background": "light"
          }
        }
      ]
    },
    {
      "cell_type": "code",
      "source": [
        "'''import pickle\n",
        "# create an iterator object with write permission - model.pkl\n",
        "with open('svm_mobilenet', 'wb') as files:\n",
        "    pickle.dump(classifier, files)'''"
      ],
      "metadata": {
        "id": "pyPf2EPyxwkt"
      },
      "execution_count": 37,
      "outputs": []
    },
    {
      "cell_type": "code",
      "source": [
        "'''import shutil\n",
        "shutil.copy('/content/svm_mobilenet','/content/gdrive/MyDrive/HAR_CCTV_Models/')'''"
      ],
      "metadata": {
        "colab": {
          "base_uri": "https://localhost:8080/",
          "height": 35
        },
        "id": "UcQuzlCcNc-2",
        "outputId": "46b6c58c-7e05-4cd4-9492-17156db889c5"
      },
      "execution_count": null,
      "outputs": [
        {
          "output_type": "execute_result",
          "data": {
            "application/vnd.google.colaboratory.intrinsic+json": {
              "type": "string"
            },
            "text/plain": [
              "'/content/gdrive/MyDrive/HAR_CCTV_Models/svm_mobilenet'"
            ]
          },
          "metadata": {},
          "execution_count": 73
        }
      ]
    },
    {
      "cell_type": "code",
      "source": [
        ""
      ],
      "metadata": {
        "id": "yyRYxzY1NdBd"
      },
      "execution_count": null,
      "outputs": []
    },
    {
      "cell_type": "code",
      "source": [
        "'''with open('svm_inceptionResnet' , 'rb') as f:\n",
        "    lr = pickle.load(f)'''"
      ],
      "metadata": {
        "id": "WNlL-GzpxwtZ"
      },
      "execution_count": null,
      "outputs": []
    },
    {
      "cell_type": "markdown",
      "source": [
        "For Yolo Cropped images"
      ],
      "metadata": {
        "id": "XX7rC6ImHvIN"
      }
    },
    {
      "cell_type": "code",
      "source": [
        "'''import pickle\n",
        "with open('/content/gdrive/MyDrive/HAR_CCTV_Models/svm_mobilenet' , 'rb') as f:\n",
        "    classifier = pickle.load(f)\n",
        "    #svm_inceptionResnet'''"
      ],
      "metadata": {
        "id": "gjHUioFGHxwl"
      },
      "execution_count": 11,
      "outputs": []
    },
    {
      "cell_type": "code",
      "source": [
        "X_test_cropped = np.zeros((1439,1024));\n",
        "y_test_cropped = np.zeros((1439))"
      ],
      "metadata": {
        "id": "fLUFDzxyIEXx"
      },
      "execution_count": 38,
      "outputs": []
    },
    {
      "cell_type": "code",
      "source": [
        "i=0;\n",
        "count = 0;\n",
        "for activity in range(0,40):\n",
        "    img_path='/content/gdrive/MyDrive/standford_tvt_ds_seed_13_test/%s/' %(labels[activity]);\n",
        "    print(img_path)\n",
        "    count = count+1;\n",
        "    print(count)\n",
        "    for filename in os.listdir(img_path):\n",
        "        if filename.endswith(\".jpg\"):\n",
        "            img = prepare_image(img_path+filename);\n",
        "            feat = intermediate_layer_model.predict(img);\n",
        "            X_test_cropped[i]=feat;\n",
        "            y_test_cropped[i]=activity;\n",
        "            i = i+1;\n",
        "            continue\n",
        "        else:\n",
        "            continue     "
      ],
      "metadata": {
        "colab": {
          "base_uri": "https://localhost:8080/"
        },
        "id": "fZHq_mYIHxyh",
        "outputId": "69bf50a5-614f-4e58-cc18-ba4ea9adf4b5"
      },
      "execution_count": 39,
      "outputs": [
        {
          "output_type": "stream",
          "name": "stdout",
          "text": [
            "/content/gdrive/MyDrive/standford_tvt_ds_seed_13_test/applauding/\n",
            "1\n",
            "/content/gdrive/MyDrive/standford_tvt_ds_seed_13_test/blowing_bubbles/\n",
            "2\n",
            "/content/gdrive/MyDrive/standford_tvt_ds_seed_13_test/brushing_teeth/\n",
            "3\n",
            "/content/gdrive/MyDrive/standford_tvt_ds_seed_13_test/cleaning_the_floor/\n",
            "4\n",
            "/content/gdrive/MyDrive/standford_tvt_ds_seed_13_test/climbing/\n",
            "5\n",
            "/content/gdrive/MyDrive/standford_tvt_ds_seed_13_test/cooking/\n",
            "6\n",
            "/content/gdrive/MyDrive/standford_tvt_ds_seed_13_test/cutting_trees/\n",
            "7\n",
            "/content/gdrive/MyDrive/standford_tvt_ds_seed_13_test/cutting_vegetables/\n",
            "8\n",
            "/content/gdrive/MyDrive/standford_tvt_ds_seed_13_test/drinking/\n",
            "9\n",
            "/content/gdrive/MyDrive/standford_tvt_ds_seed_13_test/feeding_a_horse/\n",
            "10\n",
            "/content/gdrive/MyDrive/standford_tvt_ds_seed_13_test/fishing/\n",
            "11\n",
            "/content/gdrive/MyDrive/standford_tvt_ds_seed_13_test/fixing_a_bike/\n",
            "12\n",
            "/content/gdrive/MyDrive/standford_tvt_ds_seed_13_test/fixing_a_car/\n",
            "13\n",
            "/content/gdrive/MyDrive/standford_tvt_ds_seed_13_test/gardening/\n",
            "14\n",
            "/content/gdrive/MyDrive/standford_tvt_ds_seed_13_test/holding_an_umbrella/\n",
            "15\n",
            "/content/gdrive/MyDrive/standford_tvt_ds_seed_13_test/jumping/\n",
            "16\n",
            "/content/gdrive/MyDrive/standford_tvt_ds_seed_13_test/looking_through_a_microscope/\n",
            "17\n",
            "/content/gdrive/MyDrive/standford_tvt_ds_seed_13_test/looking_through_a_telescope/\n",
            "18\n",
            "/content/gdrive/MyDrive/standford_tvt_ds_seed_13_test/phoning/\n",
            "19\n",
            "/content/gdrive/MyDrive/standford_tvt_ds_seed_13_test/playing_guitar/\n",
            "20\n",
            "/content/gdrive/MyDrive/standford_tvt_ds_seed_13_test/playing_violin/\n",
            "21\n",
            "/content/gdrive/MyDrive/standford_tvt_ds_seed_13_test/pouring_liquid/\n",
            "22\n",
            "/content/gdrive/MyDrive/standford_tvt_ds_seed_13_test/pushing_a_cart/\n",
            "23\n",
            "/content/gdrive/MyDrive/standford_tvt_ds_seed_13_test/reading/\n",
            "24\n",
            "/content/gdrive/MyDrive/standford_tvt_ds_seed_13_test/riding_a_bike/\n",
            "25\n",
            "/content/gdrive/MyDrive/standford_tvt_ds_seed_13_test/riding_a_horse/\n",
            "26\n",
            "/content/gdrive/MyDrive/standford_tvt_ds_seed_13_test/rowing_a_boat/\n",
            "27\n",
            "/content/gdrive/MyDrive/standford_tvt_ds_seed_13_test/running/\n",
            "28\n",
            "/content/gdrive/MyDrive/standford_tvt_ds_seed_13_test/shooting_an_arrow/\n",
            "29\n",
            "/content/gdrive/MyDrive/standford_tvt_ds_seed_13_test/smoking/\n",
            "30\n",
            "/content/gdrive/MyDrive/standford_tvt_ds_seed_13_test/taking_photos/\n",
            "31\n",
            "/content/gdrive/MyDrive/standford_tvt_ds_seed_13_test/texting_message/\n",
            "32\n",
            "/content/gdrive/MyDrive/standford_tvt_ds_seed_13_test/throwing_frisby/\n",
            "33\n",
            "/content/gdrive/MyDrive/standford_tvt_ds_seed_13_test/using_a_computer/\n",
            "34\n",
            "/content/gdrive/MyDrive/standford_tvt_ds_seed_13_test/walking_the_dog/\n",
            "35\n",
            "/content/gdrive/MyDrive/standford_tvt_ds_seed_13_test/washing_dishes/\n",
            "36\n",
            "/content/gdrive/MyDrive/standford_tvt_ds_seed_13_test/watching_TV/\n",
            "37\n",
            "/content/gdrive/MyDrive/standford_tvt_ds_seed_13_test/waving_hands/\n",
            "38\n",
            "/content/gdrive/MyDrive/standford_tvt_ds_seed_13_test/writing_on_a_board/\n",
            "39\n",
            "/content/gdrive/MyDrive/standford_tvt_ds_seed_13_test/writing_on_a_book/\n",
            "40\n"
          ]
        }
      ]
    },
    {
      "cell_type": "code",
      "source": [
        "''' For Testing Data'''\n",
        "X_test_cropped = sc_X.transform(X_test_cropped);\n",
        "y_pred_test_cropped = classifier.predict(X_test_cropped);\n",
        "print(\"\\nFor test data:\\t\");\n",
        "print(classification_report(y_test_cropped,y_pred_test_cropped));\n",
        "print(accuracy_score(y_test_cropped,y_pred_test_cropped));\n",
        "cm_test = confusion_matrix(y_test_cropped,y_pred_test_cropped);\n",
        "plt.matshow(cm_test)"
      ],
      "metadata": {
        "colab": {
          "base_uri": "https://localhost:8080/",
          "height": 1000
        },
        "id": "x7670bldIO1b",
        "outputId": "a4dc4772-275e-4a0e-c5d8-8f22cad094ec"
      },
      "execution_count": 40,
      "outputs": [
        {
          "output_type": "stream",
          "name": "stdout",
          "text": [
            "\n",
            "For test data:\t\n",
            "              precision    recall  f1-score   support\n",
            "\n",
            "         0.0       0.27      0.47      0.34        49\n",
            "         1.0       0.72      0.61      0.66        38\n",
            "         2.0       0.45      0.34      0.39        44\n",
            "         3.0       0.21      0.11      0.15        27\n",
            "         4.0       0.47      0.23      0.31        39\n",
            "         5.0       0.45      0.23      0.31        39\n",
            "         6.0       0.42      0.18      0.25        28\n",
            "         7.0       0.31      0.16      0.21        32\n",
            "         8.0       0.24      0.31      0.27        45\n",
            "         9.0       0.08      0.18      0.11        22\n",
            "        10.0       0.35      0.24      0.29        29\n",
            "        11.0       0.60      0.28      0.38        43\n",
            "        12.0       0.15      0.38      0.22        34\n",
            "        13.0       0.38      0.33      0.35        36\n",
            "        14.0       0.25      0.14      0.18        37\n",
            "        15.0       0.57      0.26      0.36        50\n",
            "        16.0       0.36      0.41      0.38        32\n",
            "        17.0       0.09      0.27      0.14        33\n",
            "        18.0       0.16      0.28      0.20        40\n",
            "        19.0       0.75      0.80      0.77        51\n",
            "        20.0       0.76      0.76      0.76        34\n",
            "        21.0       0.22      0.46      0.30        26\n",
            "        22.0       0.26      0.22      0.24        32\n",
            "        23.0       0.39      0.42      0.40        53\n",
            "        24.0       0.00      0.00      0.00        41\n",
            "        25.0       0.60      0.07      0.13        40\n",
            "        26.0       0.17      0.06      0.09        16\n",
            "        27.0       0.17      0.03      0.05        33\n",
            "        28.0       0.75      0.32      0.45        28\n",
            "        29.0       0.40      0.40      0.40        42\n",
            "        30.0       0.53      0.26      0.35        31\n",
            "        31.0       0.13      0.24      0.17        37\n",
            "        32.0       0.53      0.42      0.47        38\n",
            "        33.0       0.27      0.38      0.32        24\n",
            "        34.0       0.27      0.06      0.10        52\n",
            "        35.0       0.43      0.10      0.16        31\n",
            "        36.0       0.47      0.21      0.29        33\n",
            "        37.0       0.08      0.23      0.12        26\n",
            "        38.0       0.18      0.27      0.22        26\n",
            "        39.0       0.23      0.48      0.31        48\n",
            "\n",
            "    accuracy                           0.30      1439\n",
            "   macro avg       0.35      0.29      0.29      1439\n",
            "weighted avg       0.37      0.30      0.30      1439\n",
            "\n",
            "0.30229325920778316\n"
          ]
        },
        {
          "output_type": "execute_result",
          "data": {
            "text/plain": [
              "<matplotlib.image.AxesImage at 0x7f77f1ab6490>"
            ]
          },
          "metadata": {},
          "execution_count": 40
        },
        {
          "output_type": "display_data",
          "data": {
            "image/png": "[encoded data removed]",
            "text/plain": [
              "<Figure size 288x288 with 1 Axes>"
            ]
          },
          "metadata": {
            "needs_background": "light"
          }
        }
      ]
    },
    {
      "cell_type": "code",
      "source": [
        ""
      ],
      "metadata": {
        "id": "oKbAy0VyIO8C"
      },
      "execution_count": null,
      "outputs": []
    },
    {
      "cell_type": "code",
      "source": [
        ""
      ],
      "metadata": {
        "id": "zZSy9UGXIO-k"
      },
      "execution_count": null,
      "outputs": []
    }
  ]
}