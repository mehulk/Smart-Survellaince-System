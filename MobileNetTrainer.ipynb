{
  "nbformat": 4,
  "nbformat_minor": 0,
  "metadata": {
    "colab": {
      "name": "Stanford40_base_MobileNet_Model_trainer_ann_added_2.ipynb",
      "provenance": [],
      "collapsed_sections": []
    },
    "kernelspec": {
      "name": "python3",
      "display_name": "Python 3"
    },
    "language_info": {
      "name": "python"
    },
    "accelerator": "GPU"
  },
  "cells": [
    {
      "cell_type": "code",
      "metadata": {
        "colab": {
          "base_uri": "https://localhost:8080/"
        },
        "id": "GuotBIuo2XgL",
        "outputId": "86089267-5c5f-4a8b-fbe2-3beb7ddce4ae"
      },
      "source": [
        "import tensorflow as tf\n",
        "\n",
        "\n",
        "# Check tensorflow version\n",
        "print(\"Using Tensorflow %s\\n\" % (tf.__version__))"
      ],
      "execution_count": 26,
      "outputs": [
        {
          "output_type": "stream",
          "name": "stdout",
          "text": [
            "Using Tensorflow 2.7.0\n",
            "\n"
          ]
        }
      ]
    },
    {
      "cell_type": "code",
      "source": [
        "from google.colab import drive\n",
        "drive.mount('/content/gdrive')"
      ],
      "metadata": {
        "colab": {
          "base_uri": "https://localhost:8080/"
        },
        "id": "uk6NKr-F4dvH",
        "outputId": "ff404caa-634f-4de1-b785-26ea5f4846e7"
      },
      "execution_count": 27,
      "outputs": [
        {
          "output_type": "stream",
          "name": "stdout",
          "text": [
            "Drive already mounted at /content/gdrive; to attempt to forcibly remount, call drive.mount(\"/content/gdrive\", force_remount=True).\n"
          ]
        }
      ]
    },
    {
      "cell_type": "code",
      "metadata": {
        "id": "YenG-csT802c"
      },
      "source": [
        "from tensorflow.keras.preprocessing.image import load_img\n",
        "from tensorflow.keras.preprocessing.image import img_to_array\n",
        "from tensorflow.keras.applications.vgg16 import preprocess_input\n",
        "from tensorflow.keras import models\n",
        "from tensorflow.keras import layers\n",
        "from tensorflow.keras.callbacks import ModelCheckpoint\n",
        "\n",
        "from tensorflow.keras.preprocessing.image import ImageDataGenerator\n",
        "from tensorflow.keras import optimizers\n",
        "\n",
        "from sklearn import metrics\n",
        "import math\n",
        "import numpy as np\n",
        "from tensorflow.keras.models import Model"
      ],
      "execution_count": 28,
      "outputs": []
    },
    {
      "cell_type": "code",
      "metadata": {
        "colab": {
          "base_uri": "https://localhost:8080/"
        },
        "id": "mmOeplPS805O",
        "outputId": "d012a5d1-8bd5-4fb0-f096-c2352dd84e57"
      },
      "source": [
        "from tensorflow.keras.models import load_model\n",
        "from tensorflow.keras.applications.mobilenet_v2 import MobileNetV2, preprocess_input\n",
        "\n",
        "restore_model = False\n",
        "pixels = 500\n",
        "\n",
        "if (restore_model):    \n",
        "    model = load_model('models/class_only/checkpoints/epoch_31-0.65.h5')\n",
        "else:\n",
        "\n",
        "    # creating with 500 pixels\n",
        "    conv_base = MobileNetV2(weights='imagenet', include_top=False, input_shape=(pixels, pixels,3))\n",
        "\n",
        "    conv_base.trainable = False\n",
        "\n",
        "    model = models.Sequential()\n",
        "    model.add(conv_base)\n",
        "    model.add(layers.Conv2D(1024, (3, 3), padding=\"same\", strides=(1, 1), activation=\"relu\", name=\"ClassConv\"))\n",
        "    model.add(layers.GlobalAveragePooling2D(name=\"GAP\"))\n",
        "    model.add(layers.Dense(2048, activation='relu',name='fc-1'))\n",
        "    model.add(layers.Dropout(0.5))\n",
        "    model.add(layers.Dense(1024, activation='relu',name='fc-2'))\n",
        "    model.add(layers.Dropout(0.5))\n",
        "    model.add(layers.Dense(40, activation=\"softmax\", name=\"class\"))    \n",
        "\n",
        "model.summary()"
      ],
      "execution_count": 29,
      "outputs": [
        {
          "output_type": "stream",
          "name": "stdout",
          "text": [
            "WARNING:tensorflow:`input_shape` is undefined or non-square, or `rows` is not in [96, 128, 160, 192, 224]. Weights for input shape (224, 224) will be loaded as the default.\n",
            "Model: \"sequential_2\"\n",
            "_________________________________________________________________\n",
            " Layer (type)                Output Shape              Param #   \n",
            "=================================================================\n",
            " mobilenetv2_1.00_224 (Funct  (None, 16, 16, 1280)     2257984   \n",
            " ional)                                                          \n",
            "                                                                 \n",
            " ClassConv (Conv2D)          (None, 16, 16, 1024)      11797504  \n",
            "                                                                 \n",
            " GAP (GlobalAveragePooling2D  (None, 1024)             0         \n",
            " )                                                               \n",
            "                                                                 \n",
            " fc-1 (Dense)                (None, 2048)              2099200   \n",
            "                                                                 \n",
            " dropout_4 (Dropout)         (None, 2048)              0         \n",
            "                                                                 \n",
            " fc-2 (Dense)                (None, 1024)              2098176   \n",
            "                                                                 \n",
            " dropout_5 (Dropout)         (None, 1024)              0         \n",
            "                                                                 \n",
            " class (Dense)               (None, 40)                41000     \n",
            "                                                                 \n",
            "=================================================================\n",
            "Total params: 18,293,864\n",
            "Trainable params: 16,035,880\n",
            "Non-trainable params: 2,257,984\n",
            "_________________________________________________________________\n"
          ]
        }
      ]
    },
    {
      "cell_type": "code",
      "metadata": {
        "colab": {
          "base_uri": "https://localhost:8080/"
        },
        "id": "IpriYm_j8099",
        "outputId": "65e197fc-5411-4688-fc1d-2695dc70fa79"
      },
      "source": [
        "all_amp_layer_weights = model.layers[-1].get_weights()[0]\n",
        "\n",
        "all_amp_layer_weights.shape\n",
        "\n"
      ],
      "execution_count": 30,
      "outputs": [
        {
          "output_type": "execute_result",
          "data": {
            "text/plain": [
              "(1024, 40)"
            ]
          },
          "metadata": {},
          "execution_count": 30
        }
      ]
    },
    {
      "cell_type": "code",
      "metadata": {
        "id": "rJX4Fvxv81AR",
        "colab": {
          "base_uri": "https://localhost:8080/"
        },
        "outputId": "d3655a07-6f84-44ea-d882-7d725030f763"
      },
      "source": [
        "cam_shape = tuple(model.get_layer(\"ClassConv\").output.get_shape().as_list()[1:])\n",
        "cam_shape"
      ],
      "execution_count": 31,
      "outputs": [
        {
          "output_type": "execute_result",
          "data": {
            "text/plain": [
              "(16, 16, 1024)"
            ]
          },
          "metadata": {},
          "execution_count": 31
        }
      ]
    },
    {
      "cell_type": "code",
      "metadata": {
        "id": "KhwpJ0Cj9vjP"
      },
      "source": [
        "train_datagen = ImageDataGenerator(rescale=1./255, horizontal_flip=True, rotation_range=10, zoom_range= [0.9,1.1])\n",
        "test_datagen = ImageDataGenerator(rescale=1./255)\n",
        "valid_datagen = ImageDataGenerator(rescale=1./255)"
      ],
      "execution_count": 32,
      "outputs": []
    },
    {
      "cell_type": "code",
      "metadata": {
        "colab": {
          "base_uri": "https://localhost:8080/"
        },
        "id": "JL9rlZhB9vlo",
        "outputId": "f9221209-b53d-46c9-e1be-0316cfd7cf5e"
      },
      "source": [
        "BATCH_SIZE = 64\n",
        "\n",
        "\n",
        "train_generator = train_datagen.flow_from_directory(\"/content/gdrive/MyDrive/standford40_tvt_ds_seed_13/train\", batch_size=BATCH_SIZE, target_size=(pixels,pixels), class_mode = 'categorical')\n",
        "valid_generator = valid_datagen.flow_from_directory(\"/content/gdrive/MyDrive/standford40_tvt_ds_seed_13/validation\", batch_size=BATCH_SIZE, target_size=(pixels,pixels), class_mode = 'categorical', shuffle=False)\n",
        "test_generator = test_datagen.flow_from_directory(\"/content/gdrive/MyDrive/standford40_tvt_ds_seed_13/test\", batch_size=BATCH_SIZE, target_size=(pixels,pixels), class_mode = 'categorical', shuffle=False)\n",
        "\n",
        "y_true = test_generator.classes\n",
        "\n",
        "train_m = len(train_generator.classes)\n",
        "test_m = len(test_generator.classes)\n",
        "valid_m = len(valid_generator.classes)\n",
        "\n",
        "\n",
        "mapping = dict()\n",
        "for activity, idx in train_generator.class_indices.items():\n",
        "    mapping[idx] = activity\n",
        "\n",
        "train_steps = math.ceil(train_m/BATCH_SIZE)\n",
        "test_steps = math.ceil(test_m/BATCH_SIZE)\n",
        "valid_steps = math.ceil(valid_m/BATCH_SIZE)\n"
      ],
      "execution_count": 33,
      "outputs": [
        {
          "output_type": "stream",
          "name": "stdout",
          "text": [
            "Found 6665 images belonging to 40 classes.\n",
            "Found 1417 images belonging to 40 classes.\n",
            "Found 1450 images belonging to 40 classes.\n"
          ]
        }
      ]
    },
    {
      "cell_type": "code",
      "metadata": {
        "colab": {
          "base_uri": "https://localhost:8080/"
        },
        "id": "h3DRE0nZ9Uqs",
        "outputId": "0e374fa2-9ee6-42ec-a34e-5091146174b7"
      },
      "source": [
        "print(train_steps)"
      ],
      "execution_count": 34,
      "outputs": [
        {
          "output_type": "stream",
          "name": "stdout",
          "text": [
            "105\n"
          ]
        }
      ]
    },
    {
      "cell_type": "code",
      "metadata": {
        "id": "f-tnp0CF9vn7"
      },
      "source": [
        "from tensorflow.keras.callbacks import ReduceLROnPlateau\n",
        "\n",
        "\n",
        "filepath = \"models/class_only/checkpoints/epoch_{epoch:02d}-{val_loss:.2f}.h5\"\n",
        "checkpoint = ModelCheckpoint(filepath, monitor='val_loss', verbose=1, save_best_only=True, save_weights_only=False, mode='min')\n",
        "\n",
        "callback = tf.keras.callbacks.EarlyStopping(monitor='classification_loss', patience=5)\n",
        "\n",
        "logdir = \"models/class_only/logs\"\n",
        "\n",
        "tensorboard_callback = tf.keras.callbacks.TensorBoard(logdir, histogram_freq=1)"
      ],
      "execution_count": 35,
      "outputs": []
    },
    {
      "cell_type": "code",
      "metadata": {
        "colab": {
          "base_uri": "https://localhost:8080/"
        },
        "id": "7Kn_Msdg-BaB",
        "outputId": "b1fc2364-a160-452f-91f0-e618d559972b"
      },
      "source": [
        "model.compile(loss='categorical_crossentropy',\n",
        "              optimizer=optimizers.Adam(lr=1e-4), metrics = ['acc'])"
      ],
      "execution_count": 36,
      "outputs": [
        {
          "output_type": "stream",
          "name": "stderr",
          "text": [
            "/usr/local/lib/python3.7/dist-packages/keras/optimizer_v2/adam.py:105: UserWarning: The `lr` argument is deprecated, use `learning_rate` instead.\n",
            "  super(Adam, self).__init__(name, **kwargs)\n"
          ]
        }
      ]
    },
    {
      "cell_type": "code",
      "metadata": {
        "id": "xxobf_p3-BcE"
      },
      "source": [
        "prev_epochs = 0\n",
        "epochs = 32"
      ],
      "execution_count": 37,
      "outputs": []
    },
    {
      "cell_type": "code",
      "metadata": {
        "colab": {
          "base_uri": "https://localhost:8080/"
        },
        "id": "dKD7aaD0-BeR",
        "outputId": "8630943f-b156-4da8-9f19-5f7f679feb22"
      },
      "source": [
        "history = model.fit_generator(train_generator, steps_per_epoch=train_steps, initial_epoch=prev_epochs, epochs=epochs, validation_data=valid_generator, validation_steps=valid_steps, callbacks=[tensorboard_callback, checkpoint])\n"
      ],
      "execution_count": 38,
      "outputs": [
        {
          "output_type": "stream",
          "name": "stderr",
          "text": [
            "/usr/local/lib/python3.7/dist-packages/ipykernel_launcher.py:1: UserWarning: `Model.fit_generator` is deprecated and will be removed in a future version. Please use `Model.fit`, which supports generators.\n",
            "  \"\"\"Entry point for launching an IPython kernel.\n",
            "/usr/local/lib/python3.7/dist-packages/keras/engine/functional.py:1410: CustomMaskWarning: Custom mask layers require a config and must override get_config. When loading, the custom mask layer must be passed to the custom_objects argument.\n",
            "  layer_config = serialize_layer_fn(layer)\n"
          ]
        },
        {
          "output_type": "stream",
          "name": "stdout",
          "text": [
            "Epoch 1/32\n",
            "105/105 [==============================] - ETA: 0s - loss: 3.4348 - acc: 0.1001 \n",
            "Epoch 00001: val_loss improved from inf to 2.72998, saving model to models/class_only/checkpoints/epoch_01-2.73.h5\n",
            "105/105 [==============================] - 1735s 16s/step - loss: 3.4348 - acc: 0.1001 - val_loss: 2.7300 - val_acc: 0.3430\n",
            "Epoch 2/32\n",
            "105/105 [==============================] - ETA: 0s - loss: 2.5047 - acc: 0.3242\n",
            "Epoch 00002: val_loss improved from 2.72998 to 1.88318, saving model to models/class_only/checkpoints/epoch_02-1.88.h5\n",
            "105/105 [==============================] - 453s 4s/step - loss: 2.5047 - acc: 0.3242 - val_loss: 1.8832 - val_acc: 0.5208\n",
            "Epoch 3/32\n",
            "105/105 [==============================] - ETA: 0s - loss: 1.8885 - acc: 0.4758\n",
            "Epoch 00003: val_loss improved from 1.88318 to 1.52746, saving model to models/class_only/checkpoints/epoch_03-1.53.h5\n",
            "105/105 [==============================] - 404s 4s/step - loss: 1.8885 - acc: 0.4758 - val_loss: 1.5275 - val_acc: 0.5822\n",
            "Epoch 4/32\n",
            "105/105 [==============================] - ETA: 0s - loss: 1.5391 - acc: 0.5527\n",
            "Epoch 00004: val_loss improved from 1.52746 to 1.35101, saving model to models/class_only/checkpoints/epoch_04-1.35.h5\n",
            "105/105 [==============================] - 416s 4s/step - loss: 1.5391 - acc: 0.5527 - val_loss: 1.3510 - val_acc: 0.6112\n",
            "Epoch 5/32\n",
            "105/105 [==============================] - ETA: 0s - loss: 1.3047 - acc: 0.6137\n",
            "Epoch 00005: val_loss improved from 1.35101 to 1.20948, saving model to models/class_only/checkpoints/epoch_05-1.21.h5\n",
            "105/105 [==============================] - 410s 4s/step - loss: 1.3047 - acc: 0.6137 - val_loss: 1.2095 - val_acc: 0.6478\n",
            "Epoch 6/32\n",
            "105/105 [==============================] - ETA: 0s - loss: 1.1651 - acc: 0.6594\n",
            "Epoch 00006: val_loss improved from 1.20948 to 1.16675, saving model to models/class_only/checkpoints/epoch_06-1.17.h5\n",
            "105/105 [==============================] - 400s 4s/step - loss: 1.1651 - acc: 0.6594 - val_loss: 1.1668 - val_acc: 0.6733\n",
            "Epoch 7/32\n",
            "105/105 [==============================] - ETA: 0s - loss: 1.0223 - acc: 0.6941\n",
            "Epoch 00007: val_loss improved from 1.16675 to 1.14863, saving model to models/class_only/checkpoints/epoch_07-1.15.h5\n",
            "105/105 [==============================] - 418s 4s/step - loss: 1.0223 - acc: 0.6941 - val_loss: 1.1486 - val_acc: 0.6641\n",
            "Epoch 8/32\n",
            "105/105 [==============================] - ETA: 0s - loss: 0.9616 - acc: 0.7131\n",
            "Epoch 00008: val_loss did not improve from 1.14863\n",
            "105/105 [==============================] - 410s 4s/step - loss: 0.9616 - acc: 0.7131 - val_loss: 1.1907 - val_acc: 0.6507\n",
            "Epoch 9/32\n",
            "105/105 [==============================] - ETA: 0s - loss: 0.8916 - acc: 0.7278\n",
            "Epoch 00009: val_loss improved from 1.14863 to 1.08544, saving model to models/class_only/checkpoints/epoch_09-1.09.h5\n",
            "105/105 [==============================] - 403s 4s/step - loss: 0.8916 - acc: 0.7278 - val_loss: 1.0854 - val_acc: 0.6831\n",
            "Epoch 10/32\n",
            "105/105 [==============================] - ETA: 0s - loss: 0.8063 - acc: 0.7515\n",
            "Epoch 00010: val_loss improved from 1.08544 to 1.05989, saving model to models/class_only/checkpoints/epoch_10-1.06.h5\n",
            "105/105 [==============================] - 449s 4s/step - loss: 0.8063 - acc: 0.7515 - val_loss: 1.0599 - val_acc: 0.6980\n",
            "Epoch 11/32\n",
            "105/105 [==============================] - ETA: 0s - loss: 0.7112 - acc: 0.7859\n",
            "Epoch 00011: val_loss improved from 1.05989 to 1.05338, saving model to models/class_only/checkpoints/epoch_11-1.05.h5\n",
            "105/105 [==============================] - 457s 4s/step - loss: 0.7112 - acc: 0.7859 - val_loss: 1.0534 - val_acc: 0.7015\n",
            "Epoch 12/32\n",
            "105/105 [==============================] - ETA: 0s - loss: 0.6671 - acc: 0.7988\n",
            "Epoch 00012: val_loss improved from 1.05338 to 1.02747, saving model to models/class_only/checkpoints/epoch_12-1.03.h5\n",
            "105/105 [==============================] - 424s 4s/step - loss: 0.6671 - acc: 0.7988 - val_loss: 1.0275 - val_acc: 0.7114\n",
            "Epoch 13/32\n",
            "105/105 [==============================] - ETA: 0s - loss: 0.5943 - acc: 0.8213\n",
            "Epoch 00013: val_loss did not improve from 1.02747\n",
            "105/105 [==============================] - 419s 4s/step - loss: 0.5943 - acc: 0.8213 - val_loss: 1.0694 - val_acc: 0.7001\n",
            "Epoch 14/32\n",
            "105/105 [==============================] - ETA: 0s - loss: 0.5460 - acc: 0.8296\n",
            "Epoch 00014: val_loss did not improve from 1.02747\n",
            "105/105 [==============================] - 427s 4s/step - loss: 0.5460 - acc: 0.8296 - val_loss: 1.0532 - val_acc: 0.7107\n",
            "Epoch 15/32\n",
            "105/105 [==============================] - ETA: 0s - loss: 0.4967 - acc: 0.8471\n",
            "Epoch 00015: val_loss did not improve from 1.02747\n",
            "105/105 [==============================] - 421s 4s/step - loss: 0.4967 - acc: 0.8471 - val_loss: 1.0603 - val_acc: 0.7100\n",
            "Epoch 16/32\n",
            "105/105 [==============================] - ETA: 0s - loss: 0.4587 - acc: 0.8573\n",
            "Epoch 00016: val_loss did not improve from 1.02747\n",
            "105/105 [==============================] - 415s 4s/step - loss: 0.4587 - acc: 0.8573 - val_loss: 1.0404 - val_acc: 0.7107\n",
            "Epoch 17/32\n",
            "105/105 [==============================] - ETA: 0s - loss: 0.4207 - acc: 0.8702\n",
            "Epoch 00017: val_loss did not improve from 1.02747\n",
            "105/105 [==============================] - 415s 4s/step - loss: 0.4207 - acc: 0.8702 - val_loss: 1.0306 - val_acc: 0.7227\n",
            "Epoch 18/32\n",
            "105/105 [==============================] - ETA: 0s - loss: 0.3670 - acc: 0.8879\n",
            "Epoch 00018: val_loss did not improve from 1.02747\n",
            "105/105 [==============================] - 415s 4s/step - loss: 0.3670 - acc: 0.8879 - val_loss: 1.0652 - val_acc: 0.7219\n",
            "Epoch 19/32\n",
            "105/105 [==============================] - ETA: 0s - loss: 0.3260 - acc: 0.8962\n",
            "Epoch 00019: val_loss did not improve from 1.02747\n",
            "105/105 [==============================] - 413s 4s/step - loss: 0.3260 - acc: 0.8962 - val_loss: 1.0359 - val_acc: 0.7219\n",
            "Epoch 20/32\n",
            "105/105 [==============================] - ETA: 0s - loss: 0.2962 - acc: 0.9068\n",
            "Epoch 00020: val_loss did not improve from 1.02747\n",
            "105/105 [==============================] - 419s 4s/step - loss: 0.2962 - acc: 0.9068 - val_loss: 1.0708 - val_acc: 0.7248\n",
            "Epoch 21/32\n",
            "105/105 [==============================] - ETA: 0s - loss: 0.2849 - acc: 0.9070\n",
            "Epoch 00021: val_loss did not improve from 1.02747\n",
            "105/105 [==============================] - 416s 4s/step - loss: 0.2849 - acc: 0.9070 - val_loss: 1.0697 - val_acc: 0.7248\n",
            "Epoch 22/32\n",
            "105/105 [==============================] - ETA: 0s - loss: 0.2575 - acc: 0.9211\n",
            "Epoch 00022: val_loss did not improve from 1.02747\n",
            "105/105 [==============================] - 420s 4s/step - loss: 0.2575 - acc: 0.9211 - val_loss: 1.1622 - val_acc: 0.6972\n",
            "Epoch 23/32\n",
            "105/105 [==============================] - ETA: 0s - loss: 0.2134 - acc: 0.9365\n",
            "Epoch 00023: val_loss did not improve from 1.02747\n",
            "105/105 [==============================] - 418s 4s/step - loss: 0.2134 - acc: 0.9365 - val_loss: 1.1968 - val_acc: 0.7071\n",
            "Epoch 24/32\n",
            "105/105 [==============================] - ETA: 0s - loss: 0.1962 - acc: 0.9388\n",
            "Epoch 00024: val_loss did not improve from 1.02747\n",
            "105/105 [==============================] - 420s 4s/step - loss: 0.1962 - acc: 0.9388 - val_loss: 1.1694 - val_acc: 0.7092\n",
            "Epoch 25/32\n",
            "105/105 [==============================] - ETA: 0s - loss: 0.1797 - acc: 0.9451\n",
            "Epoch 00025: val_loss did not improve from 1.02747\n",
            "105/105 [==============================] - 417s 4s/step - loss: 0.1797 - acc: 0.9451 - val_loss: 1.1142 - val_acc: 0.7227\n",
            "Epoch 26/32\n",
            "105/105 [==============================] - ETA: 0s - loss: 0.1590 - acc: 0.9553\n",
            "Epoch 00026: val_loss did not improve from 1.02747\n",
            "105/105 [==============================] - 414s 4s/step - loss: 0.1590 - acc: 0.9553 - val_loss: 1.1296 - val_acc: 0.7135\n",
            "Epoch 27/32\n",
            "105/105 [==============================] - ETA: 0s - loss: 0.1273 - acc: 0.9613\n",
            "Epoch 00027: val_loss did not improve from 1.02747\n",
            "105/105 [==============================] - 401s 4s/step - loss: 0.1273 - acc: 0.9613 - val_loss: 1.1826 - val_acc: 0.7290\n",
            "Epoch 28/32\n",
            "105/105 [==============================] - ETA: 0s - loss: 0.1286 - acc: 0.9640\n",
            "Epoch 00028: val_loss did not improve from 1.02747\n",
            "105/105 [==============================] - 423s 4s/step - loss: 0.1286 - acc: 0.9640 - val_loss: 1.1639 - val_acc: 0.7227\n",
            "Epoch 29/32\n",
            "105/105 [==============================] - ETA: 0s - loss: 0.1105 - acc: 0.9676\n",
            "Epoch 00029: val_loss did not improve from 1.02747\n",
            "105/105 [==============================] - 416s 4s/step - loss: 0.1105 - acc: 0.9676 - val_loss: 1.2317 - val_acc: 0.7121\n",
            "Epoch 30/32\n",
            "105/105 [==============================] - ETA: 0s - loss: 0.1076 - acc: 0.9680\n",
            "Epoch 00030: val_loss did not improve from 1.02747\n",
            "105/105 [==============================] - 422s 4s/step - loss: 0.1076 - acc: 0.9680 - val_loss: 1.1867 - val_acc: 0.7177\n",
            "Epoch 31/32\n",
            "105/105 [==============================] - ETA: 0s - loss: 0.0962 - acc: 0.9706\n",
            "Epoch 00031: val_loss did not improve from 1.02747\n",
            "105/105 [==============================] - 420s 4s/step - loss: 0.0962 - acc: 0.9706 - val_loss: 1.2053 - val_acc: 0.7262\n",
            "Epoch 32/32\n",
            "105/105 [==============================] - ETA: 0s - loss: 0.0717 - acc: 0.9812\n",
            "Epoch 00032: val_loss did not improve from 1.02747\n",
            "105/105 [==============================] - 417s 4s/step - loss: 0.0717 - acc: 0.9812 - val_loss: 1.2732 - val_acc: 0.7227\n"
          ]
        }
      ]
    },
    {
      "cell_type": "markdown",
      "source": [
        "\n",
        "Saving Model\n",
        "\n",
        "\n"
      ],
      "metadata": {
        "id": "KYwr8k6lfuxv"
      }
    },
    {
      "cell_type": "code",
      "metadata": {
        "id": "Z5eSdXMj-G6i",
        "colab": {
          "base_uri": "https://localhost:8080/"
        },
        "outputId": "b2adf7c5-3a91-488d-b800-a02a4cda2992"
      },
      "source": [
        "model.save('standford40_tvt_ds_seed_13_mobileNet_ann_added_04.h5')"
      ],
      "execution_count": 39,
      "outputs": [
        {
          "output_type": "stream",
          "name": "stderr",
          "text": [
            "/usr/local/lib/python3.7/dist-packages/keras/engine/functional.py:1410: CustomMaskWarning: Custom mask layers require a config and must override get_config. When loading, the custom mask layer must be passed to the custom_objects argument.\n",
            "  layer_config = serialize_layer_fn(layer)\n"
          ]
        }
      ]
    },
    {
      "cell_type": "code",
      "metadata": {
        "id": "ozO6mys--G8a",
        "colab": {
          "base_uri": "https://localhost:8080/",
          "height": 35
        },
        "outputId": "e77fc134-ed7e-4d77-9913-0a3fc917e755"
      },
      "source": [
        "import shutil\n",
        "shutil.copy('/content/standford40_tvt_ds_seed_13_mobileNet_ann_added_04.h5','/content/gdrive/MyDrive/')"
      ],
      "execution_count": 40,
      "outputs": [
        {
          "output_type": "execute_result",
          "data": {
            "application/vnd.google.colaboratory.intrinsic+json": {
              "type": "string"
            },
            "text/plain": [
              "'/content/gdrive/MyDrive/standford40_tvt_ds_seed_13_mobileNet_ann_added_04.h5'"
            ]
          },
          "metadata": {},
          "execution_count": 40
        }
      ]
    },
    {
      "cell_type": "markdown",
      "source": [
        "**Performing Analysis**"
      ],
      "metadata": {
        "id": "wlO2Ulf3mV7f"
      }
    },
    {
      "cell_type": "code",
      "metadata": {
        "id": "zMx-BRuf-G1m",
        "colab": {
          "base_uri": "https://localhost:8080/"
        },
        "outputId": "749a7fbf-93ad-401d-8765-aaaf742f7a1e"
      },
      "source": [
        " score = model.evaluate_generator(test_generator, test_steps)"
      ],
      "execution_count": 41,
      "outputs": [
        {
          "output_type": "stream",
          "name": "stderr",
          "text": [
            "/usr/local/lib/python3.7/dist-packages/ipykernel_launcher.py:1: UserWarning: `Model.evaluate_generator` is deprecated and will be removed in a future version. Please use `Model.evaluate`, which supports generators.\n",
            "  \"\"\"Entry point for launching an IPython kernel.\n"
          ]
        }
      ]
    },
    {
      "cell_type": "code",
      "metadata": {
        "id": "4R7fACgxYjWS",
        "colab": {
          "base_uri": "https://localhost:8080/"
        },
        "outputId": "12fb4253-610a-4ada-c53f-10ef2dd2730b"
      },
      "source": [
        "score"
      ],
      "execution_count": 42,
      "outputs": [
        {
          "output_type": "execute_result",
          "data": {
            "text/plain": [
              "[1.2446630001068115, 0.7296551465988159]"
            ]
          },
          "metadata": {},
          "execution_count": 42
        }
      ]
    },
    {
      "cell_type": "code",
      "metadata": {
        "id": "ap04e4SxYjaO",
        "colab": {
          "base_uri": "https://localhost:8080/",
          "height": 573
        },
        "outputId": "cf98de42-c9f1-4371-a69e-f85945cf45ac"
      },
      "source": [
        "import matplotlib.pyplot as plt\n",
        "\n",
        "plt.plot(history.history['acc'])\n",
        "plt.plot(history.history['val_acc'])\n",
        "plt.title('model accuracy')\n",
        "plt.ylabel('accuracy')\n",
        "plt.xlabel('epoch')\n",
        "plt.legend(['train', 'dev'], loc='upper left')\n",
        "plt.show()\n",
        "# summarize history for loss\n",
        "plt.plot(history.history['loss'])\n",
        "plt.plot(history.history['val_loss'])\n",
        "plt.title('model loss')\n",
        "plt.ylabel('loss')\n",
        "plt.xlabel('epoch')\n",
        "plt.legend(['train', 'dev'], loc='upper left')\n",
        "plt.show()"
      ],
      "execution_count": 43,
      "outputs": [
        {
          "output_type": "display_data",
          "data": {
            "image/png": "[encoded data removed]",
            "text/plain": [
              "<Figure size 432x288 with 1 Axes>"
            ]
          },
          "metadata": {
            "needs_background": "light"
          }
        },
        {
          "output_type": "display_data",
          "data": {
            "image/png": "[encoded data removed]",
            "text/plain": [
              "<Figure size 432x288 with 1 Axes>"
            ]
          },
          "metadata": {
            "needs_background": "light"
          }
        }
      ]
    },
    {
      "cell_type": "code",
      "metadata": {
        "id": "LmKEdFNhYjgS",
        "colab": {
          "base_uri": "https://localhost:8080/"
        },
        "outputId": "89cd8202-aaa0-4dc6-d4bc-209691e5d936"
      },
      "source": [
        "predictions = model.predict_generator(test_generator, test_steps)\n",
        "predictions = predictions.argmax(axis=1)"
      ],
      "execution_count": 44,
      "outputs": [
        {
          "output_type": "stream",
          "name": "stderr",
          "text": [
            "/usr/local/lib/python3.7/dist-packages/ipykernel_launcher.py:1: UserWarning: `Model.predict_generator` is deprecated and will be removed in a future version. Please use `Model.predict`, which supports generators.\n",
            "  \"\"\"Entry point for launching an IPython kernel.\n"
          ]
        }
      ]
    },
    {
      "cell_type": "code",
      "metadata": {
        "id": "wVkxqbpVYjmC",
        "colab": {
          "base_uri": "https://localhost:8080/"
        },
        "outputId": "b1ade6f8-765a-49dc-9018-edb1b45a574f"
      },
      "source": [
        "(y_true == predictions).mean()"
      ],
      "execution_count": 45,
      "outputs": [
        {
          "output_type": "execute_result",
          "data": {
            "text/plain": [
              "0.7296551724137931"
            ]
          },
          "metadata": {},
          "execution_count": 45
        }
      ]
    },
    {
      "cell_type": "code",
      "source": [
        "test_labels = test_generator.classes;\n",
        "test_generator.class_indices;"
      ],
      "metadata": {
        "id": "6K-lpvJqggeD"
      },
      "execution_count": 46,
      "outputs": []
    },
    {
      "cell_type": "code",
      "source": [
        "from sklearn.metrics import accuracy_score, classification_report, confusion_matrix\n",
        "print(accuracy_score(test_labels,predictions));\n",
        "print(classification_report(test_labels,predictions));\n",
        "cm_train = confusion_matrix(test_labels,predictions);\n",
        "plt.matshow(cm_train);"
      ],
      "metadata": {
        "id": "nu8VHwXQgYUF",
        "colab": {
          "base_uri": "https://localhost:8080/",
          "height": 1000
        },
        "outputId": "1bde52bc-3b2e-47c2-dc31-d1c05c0a4558"
      },
      "execution_count": 47,
      "outputs": [
        {
          "output_type": "stream",
          "name": "stdout",
          "text": [
            "0.7296551724137931\n",
            "              precision    recall  f1-score   support\n",
            "\n",
            "           0       0.67      0.68      0.67        47\n",
            "           1       0.44      0.92      0.60        37\n",
            "           2       0.75      0.58      0.66        36\n",
            "           3       0.86      0.89      0.88        28\n",
            "           4       0.93      0.91      0.92        46\n",
            "           5       0.63      0.84      0.72        37\n",
            "           6       0.93      0.82      0.87        33\n",
            "           7       0.79      0.52      0.62        29\n",
            "           8       0.64      0.35      0.45        40\n",
            "           9       0.68      0.83      0.75        23\n",
            "          10       0.77      0.94      0.85        47\n",
            "          11       0.94      0.72      0.82        43\n",
            "          12       0.94      0.84      0.89        38\n",
            "          13       0.81      0.55      0.66        38\n",
            "          14       0.82      0.98      0.89        43\n",
            "          15       0.75      0.79      0.77        48\n",
            "          16       0.73      0.87      0.79        31\n",
            "          17       0.74      0.59      0.66        34\n",
            "          18       0.41      0.56      0.47        41\n",
            "          19       0.94      0.98      0.96        50\n",
            "          20       0.97      0.82      0.89        34\n",
            "          21       0.58      0.42      0.49        26\n",
            "          22       0.67      0.85      0.75        34\n",
            "          23       0.68      0.49      0.57        53\n",
            "          24       0.95      0.85      0.90        41\n",
            "          25       0.95      0.84      0.89        49\n",
            "          26       0.95      0.81      0.88        26\n",
            "          27       0.75      0.66      0.70        32\n",
            "          28       0.88      0.76      0.81        29\n",
            "          29       0.55      0.57      0.56        40\n",
            "          30       0.41      0.38      0.39        29\n",
            "          31       0.33      0.46      0.38        35\n",
            "          32       0.82      0.75      0.78        36\n",
            "          33       0.65      0.62      0.64        24\n",
            "          34       0.88      0.98      0.93        52\n",
            "          35       0.72      0.78      0.75        27\n",
            "          36       0.79      0.85      0.82        27\n",
            "          37       0.62      0.32      0.42        25\n",
            "          38       0.50      0.79      0.61        24\n",
            "          39       0.85      0.61      0.71        38\n",
            "\n",
            "    accuracy                           0.73      1450\n",
            "   macro avg       0.74      0.72      0.72      1450\n",
            "weighted avg       0.75      0.73      0.73      1450\n",
            "\n"
          ]
        },
        {
          "output_type": "display_data",
          "data": {
            "image/png": "[encoded data removed]",
            "text/plain": [
              "<Figure size 288x288 with 1 Axes>"
            ]
          },
          "metadata": {
            "needs_background": "light"
          }
        }
      ]
    }
  ]
}