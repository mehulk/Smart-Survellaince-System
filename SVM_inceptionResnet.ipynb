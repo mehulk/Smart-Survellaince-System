{
  "nbformat": 4,
  "nbformat_minor": 0,
  "metadata": {
    "colab": {
      "name": "Feature_extraction_using_CNN.ipynb",
      "provenance": []
    },
    "kernelspec": {
      "name": "python3",
      "display_name": "Python 3"
    },
    "language_info": {
      "name": "python"
    },
    "accelerator": "GPU"
  },
  "cells": [
    {
      "cell_type": "code",
      "execution_count": 41,
      "metadata": {
        "colab": {
          "base_uri": "https://localhost:8080/"
        },
        "id": "4QBSA6fsk_mt",
        "outputId": "90fc27e3-47a2-4ab0-f49b-6f70d1f73e88"
      },
      "outputs": [
        {
          "output_type": "stream",
          "name": "stdout",
          "text": [
            "Using Tensorflow 2.7.0\n",
            "\n"
          ]
        }
      ],
      "source": [
        "import tensorflow as tf\n",
        "\n",
        "\n",
        "# Check tensorflow version\n",
        "print(\"Using Tensorflow %s\\n\" % (tf.__version__))"
      ]
    },
    {
      "cell_type": "code",
      "source": [
        "from google.colab import drive\n",
        "drive.mount('/content/gdrive')"
      ],
      "metadata": {
        "colab": {
          "base_uri": "https://localhost:8080/"
        },
        "id": "bn5ACRI6lDgv",
        "outputId": "0acc25b9-8e88-4c48-ea6e-73b8b2007b85"
      },
      "execution_count": 42,
      "outputs": [
        {
          "output_type": "stream",
          "name": "stdout",
          "text": [
            "Drive already mounted at /content/gdrive; to attempt to forcibly remount, call drive.mount(\"/content/gdrive\", force_remount=True).\n"
          ]
        }
      ]
    },
    {
      "cell_type": "code",
      "source": [
        "import numpy as np\n",
        "import os\n",
        "import keras\n",
        "from keras.preprocessing import image\n",
        "from keras import Model\n",
        "from keras.models import load_model"
      ],
      "metadata": {
        "id": "QoxTSMxBlDjY"
      },
      "execution_count": 43,
      "outputs": []
    },
    {
      "cell_type": "code",
      "source": [
        "model = load_model(\"/content/gdrive/MyDrive/HAR_CCTV_Models/standford40_tvt_ds_seed_13_inceptionResnet_ann_added_02.h5\")\n",
        "#standford40_tvt_ds_seed_13_inceptionResnet_ann_added_02  standford40_tvt_ds_seed_13_mobileNet_ann_added_04"
      ],
      "metadata": {
        "id": "UsXkMpbplDlj"
      },
      "execution_count": 44,
      "outputs": []
    },
    {
      "cell_type": "code",
      "source": [
        "model.summary();"
      ],
      "metadata": {
        "colab": {
          "base_uri": "https://localhost:8080/"
        },
        "id": "8x86xnZklDn4",
        "outputId": "ed9f4c11-d030-44d2-f311-48f410d08fc6"
      },
      "execution_count": 45,
      "outputs": [
        {
          "output_type": "stream",
          "name": "stdout",
          "text": [
            "Model: \"sequential_1\"\n",
            "_________________________________________________________________\n",
            " Layer (type)                Output Shape              Param #   \n",
            "=================================================================\n",
            " inception_resnet_v2 (Functi  (None, 14, 14, 1536)     54336736  \n",
            " onal)                                                           \n",
            "                                                                 \n",
            " ClassConv (Conv2D)          (None, 14, 14, 1024)      14156800  \n",
            "                                                                 \n",
            " GAP (GlobalAveragePooling2D  (None, 1024)             0         \n",
            " )                                                               \n",
            "                                                                 \n",
            " fc-1 (Dense)                (None, 2048)              2099200   \n",
            "                                                                 \n",
            " dropout_2 (Dropout)         (None, 2048)              0         \n",
            "                                                                 \n",
            " fc-2 (Dense)                (None, 1024)              2098176   \n",
            "                                                                 \n",
            " dropout_3 (Dropout)         (None, 1024)              0         \n",
            "                                                                 \n",
            " class (Dense)               (None, 40)                41000     \n",
            "                                                                 \n",
            "=================================================================\n",
            "Total params: 72,731,912\n",
            "Trainable params: 18,395,176\n",
            "Non-trainable params: 54,336,736\n",
            "_________________________________________________________________\n"
          ]
        }
      ]
    },
    {
      "cell_type": "code",
      "source": [
        "layer_name = 'fc-2'\n",
        "intermediate_layer_model = Model(inputs=model.input,\n",
        "                                 outputs=model.get_layer(layer_name).output)\n",
        "intermediate_layer_model.summary()"
      ],
      "metadata": {
        "colab": {
          "base_uri": "https://localhost:8080/"
        },
        "id": "VEiCes5llDqQ",
        "outputId": "8c73e645-1f73-42bf-85b8-d110c0868484"
      },
      "execution_count": 46,
      "outputs": [
        {
          "output_type": "stream",
          "name": "stdout",
          "text": [
            "Model: \"model_2\"\n",
            "_________________________________________________________________\n",
            " Layer (type)                Output Shape              Param #   \n",
            "=================================================================\n",
            " inception_resnet_v2_input (  [(None, 500, 500, 3)]    0         \n",
            " InputLayer)                                                     \n",
            "                                                                 \n",
            " inception_resnet_v2 (Functi  (None, 14, 14, 1536)     54336736  \n",
            " onal)                                                           \n",
            "                                                                 \n",
            " ClassConv (Conv2D)          (None, 14, 14, 1024)      14156800  \n",
            "                                                                 \n",
            " GAP (GlobalAveragePooling2D  (None, 1024)             0         \n",
            " )                                                               \n",
            "                                                                 \n",
            " fc-1 (Dense)                (None, 2048)              2099200   \n",
            "                                                                 \n",
            " dropout_2 (Dropout)         (None, 2048)              0         \n",
            "                                                                 \n",
            " fc-2 (Dense)                (None, 1024)              2098176   \n",
            "                                                                 \n",
            "=================================================================\n",
            "Total params: 72,690,912\n",
            "Trainable params: 18,354,176\n",
            "Non-trainable params: 54,336,736\n",
            "_________________________________________________________________\n"
          ]
        }
      ]
    },
    {
      "cell_type": "markdown",
      "source": [
        "Iterate through all test and val images and extract features using trained CNN model"
      ],
      "metadata": {
        "id": "eRJjBVImlS4K"
      }
    },
    {
      "cell_type": "code",
      "source": [
        "def prepare_image(file):\n",
        "    img = image.load_img(file,target_size=(500,500));\n",
        "    img_array = image.img_to_array(img);\n",
        "    img_array_expanded_dims = np.expand_dims(img_array,axis=0);\n",
        "    return keras.applications.mobilenet.preprocess_input(img_array_expanded_dims)\n"
      ],
      "metadata": {
        "id": "mBEmQPpXlR2s"
      },
      "execution_count": 47,
      "outputs": []
    },
    {
      "cell_type": "code",
      "source": [
        "X_train = np.zeros((6665,1024));\n",
        "y_train = np.zeros((6665));\n",
        "X_val = np.zeros((1417,1024));\n",
        "y_val = np.zeros((1417))\n",
        "X_test = np.zeros((1450,1024));\n",
        "y_test = np.zeros((1450))"
      ],
      "metadata": {
        "id": "wr9kYT0BlDsY"
      },
      "execution_count": 48,
      "outputs": []
    },
    {
      "cell_type": "code",
      "source": [
        "labels = [\"applauding\", \"blowing_bubbles\", \"brushing_teeth\", \"cleaning_the_floor\", \"climbing\",\n",
        "               \"cooking\", \"cutting_trees\", \"cutting_vegetables\", \"drinking\", \"feeding_a_horse\", \"fishing\",\n",
        "               \"fixing_a_bike\",\"fixing_a_car\", \"gardening\", \"holding_an_umbrella\", \"jumping\", \"looking_through_a_microscope\",\n",
        "               \"looking_through_a_telescope\", \"phoning\", \"playing_guitar\", \"playing_violin\", \"pouring_liquid\", \"pushing_a_cart\",\n",
        "               \"reading\", \"riding_a_bike\", \"riding_a_horse\", \"rowing_a_boat\", \"running\", \"shooting_an_arrow\", \"smoking\", \"taking_photos\",\n",
        "               \"texting_message\", \"throwing_frisby\", \"using_a_computer\", \"walking_the_dog\", \"washing_dishes\", \"watching_TV\", \"waving_hands\",\n",
        "               \"writing_on_a_board\", \"writing_on_a_book\"]"
      ],
      "metadata": {
        "id": "XpQeHh9Jnpwi"
      },
      "execution_count": 49,
      "outputs": []
    },
    {
      "cell_type": "code",
      "source": [
        "labels[0]"
      ],
      "metadata": {
        "colab": {
          "base_uri": "https://localhost:8080/",
          "height": 35
        },
        "id": "D-oakOzwpRTj",
        "outputId": "bab08a0a-89c9-49cf-aa91-4b7e635012a8"
      },
      "execution_count": 50,
      "outputs": [
        {
          "output_type": "execute_result",
          "data": {
            "application/vnd.google.colaboratory.intrinsic+json": {
              "type": "string"
            },
            "text/plain": [
              "'applauding'"
            ]
          },
          "metadata": {},
          "execution_count": 50
        }
      ]
    },
    {
      "cell_type": "code",
      "source": [
        "i=0;\n",
        "count = 0;\n",
        "for activity in range(0,40):\n",
        "    img_path='/content/gdrive/MyDrive/standford40_tvt_ds_seed_13/train/%s/' %(labels[activity]);\n",
        "    print(img_path)\n",
        "    count = count+1;\n",
        "    print(count)\n",
        "    for filename in os.listdir(img_path):\n",
        "        if filename.endswith(\".jpg\"):\n",
        "            img = prepare_image(img_path+filename);\n",
        "            feat = intermediate_layer_model.predict(img);\n",
        "            X_train[i]=feat;\n",
        "            y_train[i]=activity;\n",
        "            i = i+1;\n",
        "            continue\n",
        "        else:\n",
        "            continue            \n",
        "    \n",
        "                      \n",
        "           "
      ],
      "metadata": {
        "colab": {
          "base_uri": "https://localhost:8080/"
        },
        "id": "i77xTSRWoBhD",
        "outputId": "980bc35f-b2f1-40bf-a916-c7e5b61728ad"
      },
      "execution_count": 51,
      "outputs": [
        {
          "output_type": "stream",
          "name": "stdout",
          "text": [
            "/content/gdrive/MyDrive/standford40_tvt_ds_seed_13/train/applauding/\n",
            "1\n",
            "/content/gdrive/MyDrive/standford40_tvt_ds_seed_13/train/blowing_bubbles/\n",
            "2\n",
            "/content/gdrive/MyDrive/standford40_tvt_ds_seed_13/train/brushing_teeth/\n",
            "3\n",
            "/content/gdrive/MyDrive/standford40_tvt_ds_seed_13/train/cleaning_the_floor/\n",
            "4\n",
            "/content/gdrive/MyDrive/standford40_tvt_ds_seed_13/train/climbing/\n",
            "5\n",
            "/content/gdrive/MyDrive/standford40_tvt_ds_seed_13/train/cooking/\n",
            "6\n",
            "/content/gdrive/MyDrive/standford40_tvt_ds_seed_13/train/cutting_trees/\n",
            "7\n",
            "/content/gdrive/MyDrive/standford40_tvt_ds_seed_13/train/cutting_vegetables/\n",
            "8\n",
            "/content/gdrive/MyDrive/standford40_tvt_ds_seed_13/train/drinking/\n",
            "9\n",
            "/content/gdrive/MyDrive/standford40_tvt_ds_seed_13/train/feeding_a_horse/\n",
            "10\n",
            "/content/gdrive/MyDrive/standford40_tvt_ds_seed_13/train/fishing/\n",
            "11\n",
            "/content/gdrive/MyDrive/standford40_tvt_ds_seed_13/train/fixing_a_bike/\n",
            "12\n",
            "/content/gdrive/MyDrive/standford40_tvt_ds_seed_13/train/fixing_a_car/\n",
            "13\n",
            "/content/gdrive/MyDrive/standford40_tvt_ds_seed_13/train/gardening/\n",
            "14\n",
            "/content/gdrive/MyDrive/standford40_tvt_ds_seed_13/train/holding_an_umbrella/\n",
            "15\n",
            "/content/gdrive/MyDrive/standford40_tvt_ds_seed_13/train/jumping/\n",
            "16\n",
            "/content/gdrive/MyDrive/standford40_tvt_ds_seed_13/train/looking_through_a_microscope/\n",
            "17\n",
            "/content/gdrive/MyDrive/standford40_tvt_ds_seed_13/train/looking_through_a_telescope/\n",
            "18\n",
            "/content/gdrive/MyDrive/standford40_tvt_ds_seed_13/train/phoning/\n",
            "19\n",
            "/content/gdrive/MyDrive/standford40_tvt_ds_seed_13/train/playing_guitar/\n",
            "20\n",
            "/content/gdrive/MyDrive/standford40_tvt_ds_seed_13/train/playing_violin/\n",
            "21\n",
            "/content/gdrive/MyDrive/standford40_tvt_ds_seed_13/train/pouring_liquid/\n",
            "22\n",
            "/content/gdrive/MyDrive/standford40_tvt_ds_seed_13/train/pushing_a_cart/\n",
            "23\n",
            "/content/gdrive/MyDrive/standford40_tvt_ds_seed_13/train/reading/\n",
            "24\n",
            "/content/gdrive/MyDrive/standford40_tvt_ds_seed_13/train/riding_a_bike/\n",
            "25\n",
            "/content/gdrive/MyDrive/standford40_tvt_ds_seed_13/train/riding_a_horse/\n",
            "26\n",
            "/content/gdrive/MyDrive/standford40_tvt_ds_seed_13/train/rowing_a_boat/\n",
            "27\n",
            "/content/gdrive/MyDrive/standford40_tvt_ds_seed_13/train/running/\n",
            "28\n",
            "/content/gdrive/MyDrive/standford40_tvt_ds_seed_13/train/shooting_an_arrow/\n",
            "29\n",
            "/content/gdrive/MyDrive/standford40_tvt_ds_seed_13/train/smoking/\n",
            "30\n",
            "/content/gdrive/MyDrive/standford40_tvt_ds_seed_13/train/taking_photos/\n",
            "31\n",
            "/content/gdrive/MyDrive/standford40_tvt_ds_seed_13/train/texting_message/\n",
            "32\n",
            "/content/gdrive/MyDrive/standford40_tvt_ds_seed_13/train/throwing_frisby/\n",
            "33\n",
            "/content/gdrive/MyDrive/standford40_tvt_ds_seed_13/train/using_a_computer/\n",
            "34\n",
            "/content/gdrive/MyDrive/standford40_tvt_ds_seed_13/train/walking_the_dog/\n",
            "35\n",
            "/content/gdrive/MyDrive/standford40_tvt_ds_seed_13/train/washing_dishes/\n",
            "36\n",
            "/content/gdrive/MyDrive/standford40_tvt_ds_seed_13/train/watching_TV/\n",
            "37\n",
            "/content/gdrive/MyDrive/standford40_tvt_ds_seed_13/train/waving_hands/\n",
            "38\n",
            "/content/gdrive/MyDrive/standford40_tvt_ds_seed_13/train/writing_on_a_board/\n",
            "39\n",
            "/content/gdrive/MyDrive/standford40_tvt_ds_seed_13/train/writing_on_a_book/\n",
            "40\n"
          ]
        }
      ]
    },
    {
      "cell_type": "code",
      "source": [
        "i=0;\n",
        "count = 0;\n",
        "for activity in range(0,40):\n",
        "    img_path='/content/gdrive/MyDrive/standford40_tvt_ds_seed_13/validation/%s/' %(labels[activity]);\n",
        "    print(img_path)\n",
        "    count = count+1;\n",
        "    print(count)\n",
        "    for filename in os.listdir(img_path):\n",
        "        if filename.endswith(\".jpg\"):\n",
        "            img = prepare_image(img_path+filename);\n",
        "            feat = intermediate_layer_model.predict(img);\n",
        "            X_val[i]=feat;\n",
        "            y_val[i]=activity;\n",
        "            i = i+1;\n",
        "            continue\n",
        "        else:\n",
        "            continue   "
      ],
      "metadata": {
        "colab": {
          "base_uri": "https://localhost:8080/"
        },
        "id": "y-DYBCPAqF9t",
        "outputId": "fcb9ad5e-4fe4-4e9f-ac55-299e2cd103a9"
      },
      "execution_count": 52,
      "outputs": [
        {
          "output_type": "stream",
          "name": "stdout",
          "text": [
            "/content/gdrive/MyDrive/standford40_tvt_ds_seed_13/validation/applauding/\n",
            "1\n",
            "/content/gdrive/MyDrive/standford40_tvt_ds_seed_13/validation/blowing_bubbles/\n",
            "2\n",
            "/content/gdrive/MyDrive/standford40_tvt_ds_seed_13/validation/brushing_teeth/\n",
            "3\n",
            "/content/gdrive/MyDrive/standford40_tvt_ds_seed_13/validation/cleaning_the_floor/\n",
            "4\n",
            "/content/gdrive/MyDrive/standford40_tvt_ds_seed_13/validation/climbing/\n",
            "5\n",
            "/content/gdrive/MyDrive/standford40_tvt_ds_seed_13/validation/cooking/\n",
            "6\n",
            "/content/gdrive/MyDrive/standford40_tvt_ds_seed_13/validation/cutting_trees/\n",
            "7\n",
            "/content/gdrive/MyDrive/standford40_tvt_ds_seed_13/validation/cutting_vegetables/\n",
            "8\n",
            "/content/gdrive/MyDrive/standford40_tvt_ds_seed_13/validation/drinking/\n",
            "9\n",
            "/content/gdrive/MyDrive/standford40_tvt_ds_seed_13/validation/feeding_a_horse/\n",
            "10\n",
            "/content/gdrive/MyDrive/standford40_tvt_ds_seed_13/validation/fishing/\n",
            "11\n",
            "/content/gdrive/MyDrive/standford40_tvt_ds_seed_13/validation/fixing_a_bike/\n",
            "12\n",
            "/content/gdrive/MyDrive/standford40_tvt_ds_seed_13/validation/fixing_a_car/\n",
            "13\n",
            "/content/gdrive/MyDrive/standford40_tvt_ds_seed_13/validation/gardening/\n",
            "14\n",
            "/content/gdrive/MyDrive/standford40_tvt_ds_seed_13/validation/holding_an_umbrella/\n",
            "15\n",
            "/content/gdrive/MyDrive/standford40_tvt_ds_seed_13/validation/jumping/\n",
            "16\n",
            "/content/gdrive/MyDrive/standford40_tvt_ds_seed_13/validation/looking_through_a_microscope/\n",
            "17\n",
            "/content/gdrive/MyDrive/standford40_tvt_ds_seed_13/validation/looking_through_a_telescope/\n",
            "18\n",
            "/content/gdrive/MyDrive/standford40_tvt_ds_seed_13/validation/phoning/\n",
            "19\n",
            "/content/gdrive/MyDrive/standford40_tvt_ds_seed_13/validation/playing_guitar/\n",
            "20\n",
            "/content/gdrive/MyDrive/standford40_tvt_ds_seed_13/validation/playing_violin/\n",
            "21\n",
            "/content/gdrive/MyDrive/standford40_tvt_ds_seed_13/validation/pouring_liquid/\n",
            "22\n",
            "/content/gdrive/MyDrive/standford40_tvt_ds_seed_13/validation/pushing_a_cart/\n",
            "23\n",
            "/content/gdrive/MyDrive/standford40_tvt_ds_seed_13/validation/reading/\n",
            "24\n",
            "/content/gdrive/MyDrive/standford40_tvt_ds_seed_13/validation/riding_a_bike/\n",
            "25\n",
            "/content/gdrive/MyDrive/standford40_tvt_ds_seed_13/validation/riding_a_horse/\n",
            "26\n",
            "/content/gdrive/MyDrive/standford40_tvt_ds_seed_13/validation/rowing_a_boat/\n",
            "27\n",
            "/content/gdrive/MyDrive/standford40_tvt_ds_seed_13/validation/running/\n",
            "28\n",
            "/content/gdrive/MyDrive/standford40_tvt_ds_seed_13/validation/shooting_an_arrow/\n",
            "29\n",
            "/content/gdrive/MyDrive/standford40_tvt_ds_seed_13/validation/smoking/\n",
            "30\n",
            "/content/gdrive/MyDrive/standford40_tvt_ds_seed_13/validation/taking_photos/\n",
            "31\n",
            "/content/gdrive/MyDrive/standford40_tvt_ds_seed_13/validation/texting_message/\n",
            "32\n",
            "/content/gdrive/MyDrive/standford40_tvt_ds_seed_13/validation/throwing_frisby/\n",
            "33\n",
            "/content/gdrive/MyDrive/standford40_tvt_ds_seed_13/validation/using_a_computer/\n",
            "34\n",
            "/content/gdrive/MyDrive/standford40_tvt_ds_seed_13/validation/walking_the_dog/\n",
            "35\n",
            "/content/gdrive/MyDrive/standford40_tvt_ds_seed_13/validation/washing_dishes/\n",
            "36\n",
            "/content/gdrive/MyDrive/standford40_tvt_ds_seed_13/validation/watching_TV/\n",
            "37\n",
            "/content/gdrive/MyDrive/standford40_tvt_ds_seed_13/validation/waving_hands/\n",
            "38\n",
            "/content/gdrive/MyDrive/standford40_tvt_ds_seed_13/validation/writing_on_a_board/\n",
            "39\n",
            "/content/gdrive/MyDrive/standford40_tvt_ds_seed_13/validation/writing_on_a_book/\n",
            "40\n"
          ]
        }
      ]
    },
    {
      "cell_type": "code",
      "source": [
        "i=0;\n",
        "count = 0;\n",
        "for activity in range(0,40):\n",
        "    img_path='/content/gdrive/MyDrive/standford40_tvt_ds_seed_13/test/%s/' %(labels[activity]);\n",
        "    print(img_path)\n",
        "    count = count+1;\n",
        "    print(count)\n",
        "    for filename in os.listdir(img_path):\n",
        "        if filename.endswith(\".jpg\"):\n",
        "            img = prepare_image(img_path+filename);\n",
        "            feat = intermediate_layer_model.predict(img);\n",
        "            X_test[i]=feat;\n",
        "            y_test[i]=activity;\n",
        "            i = i+1;\n",
        "            continue\n",
        "        else:\n",
        "            continue   "
      ],
      "metadata": {
        "colab": {
          "base_uri": "https://localhost:8080/"
        },
        "id": "19hDR1XcoBji",
        "outputId": "8ebc4663-136a-4153-faa5-a43f48c4e662"
      },
      "execution_count": 53,
      "outputs": [
        {
          "output_type": "stream",
          "name": "stdout",
          "text": [
            "/content/gdrive/MyDrive/standford40_tvt_ds_seed_13/test/applauding/\n",
            "1\n",
            "/content/gdrive/MyDrive/standford40_tvt_ds_seed_13/test/blowing_bubbles/\n",
            "2\n",
            "/content/gdrive/MyDrive/standford40_tvt_ds_seed_13/test/brushing_teeth/\n",
            "3\n",
            "/content/gdrive/MyDrive/standford40_tvt_ds_seed_13/test/cleaning_the_floor/\n",
            "4\n",
            "/content/gdrive/MyDrive/standford40_tvt_ds_seed_13/test/climbing/\n",
            "5\n",
            "/content/gdrive/MyDrive/standford40_tvt_ds_seed_13/test/cooking/\n",
            "6\n",
            "/content/gdrive/MyDrive/standford40_tvt_ds_seed_13/test/cutting_trees/\n",
            "7\n",
            "/content/gdrive/MyDrive/standford40_tvt_ds_seed_13/test/cutting_vegetables/\n",
            "8\n",
            "/content/gdrive/MyDrive/standford40_tvt_ds_seed_13/test/drinking/\n",
            "9\n",
            "/content/gdrive/MyDrive/standford40_tvt_ds_seed_13/test/feeding_a_horse/\n",
            "10\n",
            "/content/gdrive/MyDrive/standford40_tvt_ds_seed_13/test/fishing/\n",
            "11\n",
            "/content/gdrive/MyDrive/standford40_tvt_ds_seed_13/test/fixing_a_bike/\n",
            "12\n",
            "/content/gdrive/MyDrive/standford40_tvt_ds_seed_13/test/fixing_a_car/\n",
            "13\n",
            "/content/gdrive/MyDrive/standford40_tvt_ds_seed_13/test/gardening/\n",
            "14\n",
            "/content/gdrive/MyDrive/standford40_tvt_ds_seed_13/test/holding_an_umbrella/\n",
            "15\n",
            "/content/gdrive/MyDrive/standford40_tvt_ds_seed_13/test/jumping/\n",
            "16\n",
            "/content/gdrive/MyDrive/standford40_tvt_ds_seed_13/test/looking_through_a_microscope/\n",
            "17\n",
            "/content/gdrive/MyDrive/standford40_tvt_ds_seed_13/test/looking_through_a_telescope/\n",
            "18\n",
            "/content/gdrive/MyDrive/standford40_tvt_ds_seed_13/test/phoning/\n",
            "19\n",
            "/content/gdrive/MyDrive/standford40_tvt_ds_seed_13/test/playing_guitar/\n",
            "20\n",
            "/content/gdrive/MyDrive/standford40_tvt_ds_seed_13/test/playing_violin/\n",
            "21\n",
            "/content/gdrive/MyDrive/standford40_tvt_ds_seed_13/test/pouring_liquid/\n",
            "22\n",
            "/content/gdrive/MyDrive/standford40_tvt_ds_seed_13/test/pushing_a_cart/\n",
            "23\n",
            "/content/gdrive/MyDrive/standford40_tvt_ds_seed_13/test/reading/\n",
            "24\n",
            "/content/gdrive/MyDrive/standford40_tvt_ds_seed_13/test/riding_a_bike/\n",
            "25\n",
            "/content/gdrive/MyDrive/standford40_tvt_ds_seed_13/test/riding_a_horse/\n",
            "26\n",
            "/content/gdrive/MyDrive/standford40_tvt_ds_seed_13/test/rowing_a_boat/\n",
            "27\n",
            "/content/gdrive/MyDrive/standford40_tvt_ds_seed_13/test/running/\n",
            "28\n",
            "/content/gdrive/MyDrive/standford40_tvt_ds_seed_13/test/shooting_an_arrow/\n",
            "29\n",
            "/content/gdrive/MyDrive/standford40_tvt_ds_seed_13/test/smoking/\n",
            "30\n",
            "/content/gdrive/MyDrive/standford40_tvt_ds_seed_13/test/taking_photos/\n",
            "31\n",
            "/content/gdrive/MyDrive/standford40_tvt_ds_seed_13/test/texting_message/\n",
            "32\n",
            "/content/gdrive/MyDrive/standford40_tvt_ds_seed_13/test/throwing_frisby/\n",
            "33\n",
            "/content/gdrive/MyDrive/standford40_tvt_ds_seed_13/test/using_a_computer/\n",
            "34\n",
            "/content/gdrive/MyDrive/standford40_tvt_ds_seed_13/test/walking_the_dog/\n",
            "35\n",
            "/content/gdrive/MyDrive/standford40_tvt_ds_seed_13/test/washing_dishes/\n",
            "36\n",
            "/content/gdrive/MyDrive/standford40_tvt_ds_seed_13/test/watching_TV/\n",
            "37\n",
            "/content/gdrive/MyDrive/standford40_tvt_ds_seed_13/test/waving_hands/\n",
            "38\n",
            "/content/gdrive/MyDrive/standford40_tvt_ds_seed_13/test/writing_on_a_board/\n",
            "39\n",
            "/content/gdrive/MyDrive/standford40_tvt_ds_seed_13/test/writing_on_a_book/\n",
            "40\n"
          ]
        }
      ]
    },
    {
      "cell_type": "code",
      "source": [
        ""
      ],
      "metadata": {
        "id": "pJ3k4SU0NTYd"
      },
      "execution_count": 53,
      "outputs": []
    },
    {
      "cell_type": "code",
      "source": [
        "import matplotlib.pyplot as plt\n",
        "import scipy.io"
      ],
      "metadata": {
        "id": "G_DetltboBmL"
      },
      "execution_count": 54,
      "outputs": []
    },
    {
      "cell_type": "code",
      "source": [
        "'''Preprocessing'''\n",
        "from sklearn.preprocessing import StandardScaler\n",
        "sc_X = StandardScaler();\n",
        "X_train = sc_X.fit_transform(X_train);\n",
        "X_val = sc_X.transform(X_val);\n",
        "X_test = sc_X.transform(X_test);\n",
        "\n",
        "'''classifier_cnn '''\n",
        "from sklearn.svm import SVC\n",
        "classifier = SVC(C=100, kernel='rbf', probability=True);\n",
        "classifier.fit(X_train,y_train)\n",
        "y_pred_train = classifier.predict(X_train);\n"
      ],
      "metadata": {
        "id": "x_tCDZwgrq-0"
      },
      "execution_count": 55,
      "outputs": []
    },
    {
      "cell_type": "code",
      "source": [
        "'''For Training Data '''\n",
        "from sklearn.metrics import accuracy_score, classification_report,confusion_matrix\n",
        "print(\"\\nFor training data:\\t\");\n",
        "print(classification_report(y_train,y_pred_train));\n",
        "print(accuracy_score(y_train,y_pred_train));\n",
        "cm_train = confusion_matrix(y_train,y_pred_train);\n",
        "#plt.matshow(cm_train)\n",
        "\n",
        "#%%\n",
        "\n",
        "''' For Testing Data'''\n",
        "y_pred_test = classifier.predict(X_test);\n",
        "print(\"\\nFor test data:\\t\");\n",
        "print(classification_report(y_test,y_pred_test));\n",
        "print(accuracy_score(y_test,y_pred_test));\n",
        "cm_test = confusion_matrix(y_test,y_pred_test);\n",
        "plt.matshow(cm_test)"
      ],
      "metadata": {
        "colab": {
          "base_uri": "https://localhost:8080/",
          "height": 1000
        },
        "id": "efqe6LtKrrA9",
        "outputId": "c3710b13-8bfc-41ce-feeb-875a293b2e69"
      },
      "execution_count": 56,
      "outputs": [
        {
          "output_type": "stream",
          "name": "stdout",
          "text": [
            "\n",
            "For training data:\t\n",
            "              precision    recall  f1-score   support\n",
            "\n",
            "         0.0       1.00      1.00      1.00       188\n",
            "         1.0       1.00      1.00      1.00       180\n",
            "         2.0       1.00      1.00      1.00       131\n",
            "         3.0       1.00      1.00      1.00       159\n",
            "         4.0       1.00      1.00      1.00       199\n",
            "         5.0       1.00      1.00      1.00       214\n",
            "         6.0       1.00      1.00      1.00       153\n",
            "         7.0       1.00      1.00      1.00       139\n",
            "         8.0       1.00      1.00      1.00       175\n",
            "         9.0       1.00      1.00      1.00       210\n",
            "        10.0       1.00      1.00      1.00       186\n",
            "        11.0       1.00      1.00      1.00       154\n",
            "        12.0       1.00      1.00      1.00       172\n",
            "        13.0       1.00      1.00      1.00       126\n",
            "        14.0       1.00      1.00      1.00       200\n",
            "        15.0       1.00      1.00      1.00       207\n",
            "        16.0       1.00      1.00      1.00       129\n",
            "        17.0       1.00      1.00      1.00       140\n",
            "        18.0       1.00      1.00      1.00       179\n",
            "        19.0       1.00      1.00      1.00       190\n",
            "        20.0       1.00      1.00      1.00       195\n",
            "        21.0       1.00      1.00      1.00       140\n",
            "        22.0       1.00      1.00      1.00       169\n",
            "        23.0       1.00      1.00      1.00       153\n",
            "        24.0       1.00      1.00      1.00       217\n",
            "        25.0       1.00      1.00      1.00       198\n",
            "        26.0       1.00      1.00      1.00       133\n",
            "        27.0       1.00      1.00      1.00       182\n",
            "        28.0       1.00      1.00      1.00       161\n",
            "        29.0       1.00      1.00      1.00       172\n",
            "        30.0       1.00      1.00      1.00       135\n",
            "        31.0       1.00      1.00      1.00       134\n",
            "        32.0       1.00      1.00      1.00       132\n",
            "        33.0       1.00      1.00      1.00       175\n",
            "        34.0       1.00      1.00      1.00       198\n",
            "        35.0       1.00      1.00      1.00       127\n",
            "        36.0       1.00      1.00      1.00       167\n",
            "        37.0       1.00      1.00      1.00       144\n",
            "        38.0       1.00      1.00      1.00       129\n",
            "        39.0       1.00      1.00      1.00       173\n",
            "\n",
            "    accuracy                           1.00      6665\n",
            "   macro avg       1.00      1.00      1.00      6665\n",
            "weighted avg       1.00      1.00      1.00      6665\n",
            "\n",
            "1.0\n",
            "\n",
            "For test data:\t\n",
            "              precision    recall  f1-score   support\n",
            "\n",
            "         0.0       0.74      0.74      0.74        47\n",
            "         1.0       0.95      0.95      0.95        37\n",
            "         2.0       0.85      0.81      0.83        36\n",
            "         3.0       1.00      0.93      0.96        28\n",
            "         4.0       0.94      0.98      0.96        46\n",
            "         5.0       0.77      0.81      0.79        37\n",
            "         6.0       0.94      1.00      0.97        33\n",
            "         7.0       0.89      0.83      0.86        29\n",
            "         8.0       0.83      0.60      0.70        40\n",
            "         9.0       0.88      0.96      0.92        23\n",
            "        10.0       0.90      0.98      0.94        47\n",
            "        11.0       0.93      0.98      0.95        43\n",
            "        12.0       0.97      0.97      0.97        38\n",
            "        13.0       1.00      0.97      0.99        38\n",
            "        14.0       0.98      0.98      0.98        43\n",
            "        15.0       0.88      0.75      0.81        48\n",
            "        16.0       0.93      0.90      0.92        31\n",
            "        17.0       0.91      0.88      0.90        34\n",
            "        18.0       0.66      0.71      0.68        41\n",
            "        19.0       0.94      1.00      0.97        50\n",
            "        20.0       1.00      0.97      0.99        34\n",
            "        21.0       0.75      0.69      0.72        26\n",
            "        22.0       0.97      0.91      0.94        34\n",
            "        23.0       0.85      0.75      0.80        53\n",
            "        24.0       0.98      1.00      0.99        41\n",
            "        25.0       1.00      0.96      0.98        49\n",
            "        26.0       1.00      1.00      1.00        26\n",
            "        27.0       0.79      0.84      0.82        32\n",
            "        28.0       1.00      0.97      0.98        29\n",
            "        29.0       0.67      0.82      0.74        40\n",
            "        30.0       0.86      0.66      0.75        29\n",
            "        31.0       0.61      0.66      0.63        35\n",
            "        32.0       0.94      0.83      0.88        36\n",
            "        33.0       0.85      0.96      0.90        24\n",
            "        34.0       0.92      0.94      0.93        52\n",
            "        35.0       0.76      0.93      0.83        27\n",
            "        36.0       0.83      0.93      0.88        27\n",
            "        37.0       0.53      0.64      0.58        25\n",
            "        38.0       0.91      0.83      0.87        24\n",
            "        39.0       0.79      0.82      0.81        38\n",
            "\n",
            "    accuracy                           0.87      1450\n",
            "   macro avg       0.87      0.87      0.87      1450\n",
            "weighted avg       0.88      0.87      0.87      1450\n",
            "\n",
            "0.8724137931034482\n"
          ]
        },
        {
          "output_type": "execute_result",
          "data": {
            "text/plain": [
              "<matplotlib.image.AxesImage at 0x7f77f327cc90>"
            ]
          },
          "metadata": {},
          "execution_count": 56
        },
        {
          "output_type": "display_data",
          "data": {
            "image/png": "[encoded data removed]",
            "text/plain": [
              "<Figure size 288x288 with 1 Axes>"
            ]
          },
          "metadata": {
            "needs_background": "light"
          }
        }
      ]
    },
    {
      "cell_type": "code",
      "source": [
        "'''import pickle\n",
        "# create an iterator object with write permission - model.pkl\n",
        "with open('svm_mobilenet', 'wb') as files:\n",
        "    pickle.dump(classifier, files)'''"
      ],
      "metadata": {
        "id": "pyPf2EPyxwkt",
        "colab": {
          "base_uri": "https://localhost:8080/",
          "height": 35
        },
        "outputId": "c62fcd42-28cd-49db-ccba-682e0c3fe7e7"
      },
      "execution_count": 57,
      "outputs": [
        {
          "output_type": "execute_result",
          "data": {
            "application/vnd.google.colaboratory.intrinsic+json": {
              "type": "string"
            },
            "text/plain": [
              "\"import pickle\\n# create an iterator object with write permission - model.pkl\\nwith open('svm_mobilenet', 'wb') as files:\\n    pickle.dump(classifier, files)\""
            ]
          },
          "metadata": {},
          "execution_count": 57
        }
      ]
    },
    {
      "cell_type": "code",
      "source": [
        "'''import shutil\n",
        "shutil.copy('/content/svm_mobilenet','/content/gdrive/MyDrive/HAR_CCTV_Models/')'''"
      ],
      "metadata": {
        "colab": {
          "base_uri": "https://localhost:8080/",
          "height": 35
        },
        "id": "UcQuzlCcNc-2",
        "outputId": "27451137-ab29-42f2-f0f3-149db2e353b6"
      },
      "execution_count": 58,
      "outputs": [
        {
          "output_type": "execute_result",
          "data": {
            "application/vnd.google.colaboratory.intrinsic+json": {
              "type": "string"
            },
            "text/plain": [
              "\"import shutil\\nshutil.copy('/content/svm_mobilenet','/content/gdrive/MyDrive/HAR_CCTV_Models/')\""
            ]
          },
          "metadata": {},
          "execution_count": 58
        }
      ]
    },
    {
      "cell_type": "code",
      "source": [
        ""
      ],
      "metadata": {
        "id": "yyRYxzY1NdBd"
      },
      "execution_count": 58,
      "outputs": []
    },
    {
      "cell_type": "code",
      "source": [
        "'''with open('svm_inceptionResnet' , 'rb') as f:\n",
        "    lr = pickle.load(f)'''"
      ],
      "metadata": {
        "id": "WNlL-GzpxwtZ",
        "colab": {
          "base_uri": "https://localhost:8080/",
          "height": 35
        },
        "outputId": "1f4f6547-9dba-4429-bf5c-032de28c22cd"
      },
      "execution_count": 59,
      "outputs": [
        {
          "output_type": "execute_result",
          "data": {
            "application/vnd.google.colaboratory.intrinsic+json": {
              "type": "string"
            },
            "text/plain": [
              "\"with open('svm_inceptionResnet' , 'rb') as f:\\n    lr = pickle.load(f)\""
            ]
          },
          "metadata": {},
          "execution_count": 59
        }
      ]
    },
    {
      "cell_type": "markdown",
      "source": [
        "For Yolo Cropped images"
      ],
      "metadata": {
        "id": "XX7rC6ImHvIN"
      }
    },
    {
      "cell_type": "code",
      "source": [
        "'''import pickle\n",
        "with open('/content/gdrive/MyDrive/HAR_CCTV_Models/svm_mobilenet' , 'rb') as f:\n",
        "    classifier = pickle.load(f)\n",
        "    #svm_inceptionResnet'''"
      ],
      "metadata": {
        "colab": {
          "base_uri": "https://localhost:8080/",
          "height": 35
        },
        "id": "gjHUioFGHxwl",
        "outputId": "454c5146-e649-42cc-dd3e-a906654809bf"
      },
      "execution_count": 60,
      "outputs": [
        {
          "output_type": "execute_result",
          "data": {
            "application/vnd.google.colaboratory.intrinsic+json": {
              "type": "string"
            },
            "text/plain": [
              "\"import pickle\\nwith open('/content/gdrive/MyDrive/HAR_CCTV_Models/svm_mobilenet' , 'rb') as f:\\n    classifier = pickle.load(f)\\n    #svm_inceptionResnet\""
            ]
          },
          "metadata": {},
          "execution_count": 60
        }
      ]
    },
    {
      "cell_type": "code",
      "source": [
        "X_test_cropped = np.zeros((1439,1024));\n",
        "y_test_cropped = np.zeros((1439))"
      ],
      "metadata": {
        "id": "fLUFDzxyIEXx"
      },
      "execution_count": 61,
      "outputs": []
    },
    {
      "cell_type": "code",
      "source": [
        "i=0;\n",
        "count = 0;\n",
        "for activity in range(0,40):\n",
        "    img_path='/content/gdrive/MyDrive/standford_tvt_ds_seed_13_test/%s/' %(labels[activity]);\n",
        "    print(img_path)\n",
        "    count = count+1;\n",
        "    print(count)\n",
        "    for filename in os.listdir(img_path):\n",
        "        if filename.endswith(\".jpg\"):\n",
        "            img = prepare_image(img_path+filename);\n",
        "            feat = intermediate_layer_model.predict(img);\n",
        "            X_test_cropped[i]=feat;\n",
        "            y_test_cropped[i]=activity;\n",
        "            i = i+1;\n",
        "            continue\n",
        "        else:\n",
        "            continue     "
      ],
      "metadata": {
        "colab": {
          "base_uri": "https://localhost:8080/"
        },
        "id": "fZHq_mYIHxyh",
        "outputId": "715d5a2a-1091-4670-8d6e-e2373552070e"
      },
      "execution_count": 62,
      "outputs": [
        {
          "output_type": "stream",
          "name": "stdout",
          "text": [
            "/content/gdrive/MyDrive/standford_tvt_ds_seed_13_test/applauding/\n",
            "1\n",
            "/content/gdrive/MyDrive/standford_tvt_ds_seed_13_test/blowing_bubbles/\n",
            "2\n",
            "/content/gdrive/MyDrive/standford_tvt_ds_seed_13_test/brushing_teeth/\n",
            "3\n",
            "/content/gdrive/MyDrive/standford_tvt_ds_seed_13_test/cleaning_the_floor/\n",
            "4\n",
            "/content/gdrive/MyDrive/standford_tvt_ds_seed_13_test/climbing/\n",
            "5\n",
            "/content/gdrive/MyDrive/standford_tvt_ds_seed_13_test/cooking/\n",
            "6\n",
            "/content/gdrive/MyDrive/standford_tvt_ds_seed_13_test/cutting_trees/\n",
            "7\n",
            "/content/gdrive/MyDrive/standford_tvt_ds_seed_13_test/cutting_vegetables/\n",
            "8\n",
            "/content/gdrive/MyDrive/standford_tvt_ds_seed_13_test/drinking/\n",
            "9\n",
            "/content/gdrive/MyDrive/standford_tvt_ds_seed_13_test/feeding_a_horse/\n",
            "10\n",
            "/content/gdrive/MyDrive/standford_tvt_ds_seed_13_test/fishing/\n",
            "11\n",
            "/content/gdrive/MyDrive/standford_tvt_ds_seed_13_test/fixing_a_bike/\n",
            "12\n",
            "/content/gdrive/MyDrive/standford_tvt_ds_seed_13_test/fixing_a_car/\n",
            "13\n",
            "/content/gdrive/MyDrive/standford_tvt_ds_seed_13_test/gardening/\n",
            "14\n",
            "/content/gdrive/MyDrive/standford_tvt_ds_seed_13_test/holding_an_umbrella/\n",
            "15\n",
            "/content/gdrive/MyDrive/standford_tvt_ds_seed_13_test/jumping/\n",
            "16\n",
            "/content/gdrive/MyDrive/standford_tvt_ds_seed_13_test/looking_through_a_microscope/\n",
            "17\n",
            "/content/gdrive/MyDrive/standford_tvt_ds_seed_13_test/looking_through_a_telescope/\n",
            "18\n",
            "/content/gdrive/MyDrive/standford_tvt_ds_seed_13_test/phoning/\n",
            "19\n",
            "/content/gdrive/MyDrive/standford_tvt_ds_seed_13_test/playing_guitar/\n",
            "20\n",
            "/content/gdrive/MyDrive/standford_tvt_ds_seed_13_test/playing_violin/\n",
            "21\n",
            "/content/gdrive/MyDrive/standford_tvt_ds_seed_13_test/pouring_liquid/\n",
            "22\n",
            "/content/gdrive/MyDrive/standford_tvt_ds_seed_13_test/pushing_a_cart/\n",
            "23\n",
            "/content/gdrive/MyDrive/standford_tvt_ds_seed_13_test/reading/\n",
            "24\n",
            "/content/gdrive/MyDrive/standford_tvt_ds_seed_13_test/riding_a_bike/\n",
            "25\n",
            "/content/gdrive/MyDrive/standford_tvt_ds_seed_13_test/riding_a_horse/\n",
            "26\n",
            "/content/gdrive/MyDrive/standford_tvt_ds_seed_13_test/rowing_a_boat/\n",
            "27\n",
            "/content/gdrive/MyDrive/standford_tvt_ds_seed_13_test/running/\n",
            "28\n",
            "/content/gdrive/MyDrive/standford_tvt_ds_seed_13_test/shooting_an_arrow/\n",
            "29\n",
            "/content/gdrive/MyDrive/standford_tvt_ds_seed_13_test/smoking/\n",
            "30\n",
            "/content/gdrive/MyDrive/standford_tvt_ds_seed_13_test/taking_photos/\n",
            "31\n",
            "/content/gdrive/MyDrive/standford_tvt_ds_seed_13_test/texting_message/\n",
            "32\n",
            "/content/gdrive/MyDrive/standford_tvt_ds_seed_13_test/throwing_frisby/\n",
            "33\n",
            "/content/gdrive/MyDrive/standford_tvt_ds_seed_13_test/using_a_computer/\n",
            "34\n",
            "/content/gdrive/MyDrive/standford_tvt_ds_seed_13_test/walking_the_dog/\n",
            "35\n",
            "/content/gdrive/MyDrive/standford_tvt_ds_seed_13_test/washing_dishes/\n",
            "36\n",
            "/content/gdrive/MyDrive/standford_tvt_ds_seed_13_test/watching_TV/\n",
            "37\n",
            "/content/gdrive/MyDrive/standford_tvt_ds_seed_13_test/waving_hands/\n",
            "38\n",
            "/content/gdrive/MyDrive/standford_tvt_ds_seed_13_test/writing_on_a_board/\n",
            "39\n",
            "/content/gdrive/MyDrive/standford_tvt_ds_seed_13_test/writing_on_a_book/\n",
            "40\n"
          ]
        }
      ]
    },
    {
      "cell_type": "code",
      "source": [
        "''' For Testing Data'''\n",
        "X_test_cropped = sc_X.transform(X_test_cropped);\n",
        "y_pred_test_cropped = classifier.predict(X_test_cropped);\n",
        "print(\"\\nFor test data:\\t\");\n",
        "print(classification_report(y_test_cropped,y_pred_test_cropped));\n",
        "print(accuracy_score(y_test_cropped,y_pred_test_cropped));\n",
        "cm_test = confusion_matrix(y_test_cropped,y_pred_test_cropped);\n",
        "plt.matshow(cm_test)"
      ],
      "metadata": {
        "colab": {
          "base_uri": "https://localhost:8080/",
          "height": 1000
        },
        "id": "x7670bldIO1b",
        "outputId": "4eef846b-944e-45d7-ae57-d1106a5a9d47"
      },
      "execution_count": 63,
      "outputs": [
        {
          "output_type": "stream",
          "name": "stdout",
          "text": [
            "\n",
            "For test data:\t\n",
            "              precision    recall  f1-score   support\n",
            "\n",
            "         0.0       0.51      0.71      0.59        49\n",
            "         1.0       0.82      0.84      0.83        38\n",
            "         2.0       0.74      0.66      0.70        44\n",
            "         3.0       0.81      0.81      0.81        27\n",
            "         4.0       0.92      0.62      0.74        39\n",
            "         5.0       0.75      0.31      0.44        39\n",
            "         6.0       0.81      0.79      0.80        28\n",
            "         7.0       0.67      0.75      0.71        32\n",
            "         8.0       0.48      0.67      0.56        45\n",
            "         9.0       0.91      0.45      0.61        22\n",
            "        10.0       0.57      0.59      0.58        29\n",
            "        11.0       0.71      0.81      0.76        43\n",
            "        12.0       0.70      0.68      0.69        34\n",
            "        13.0       0.65      0.89      0.75        36\n",
            "        14.0       0.93      0.35      0.51        37\n",
            "        15.0       0.84      0.64      0.73        50\n",
            "        16.0       0.85      0.72      0.78        32\n",
            "        17.0       0.46      0.18      0.26        33\n",
            "        18.0       0.71      0.72      0.72        40\n",
            "        19.0       0.96      0.98      0.97        51\n",
            "        20.0       1.00      1.00      1.00        34\n",
            "        21.0       0.31      0.62      0.42        26\n",
            "        22.0       0.83      0.47      0.60        32\n",
            "        23.0       0.65      0.66      0.65        53\n",
            "        24.0       0.91      0.73      0.81        41\n",
            "        25.0       0.93      0.68      0.78        40\n",
            "        26.0       0.53      0.62      0.57        16\n",
            "        27.0       0.56      0.67      0.61        33\n",
            "        28.0       0.93      0.89      0.91        28\n",
            "        29.0       0.53      0.71      0.61        42\n",
            "        30.0       0.65      0.48      0.56        31\n",
            "        31.0       0.34      0.81      0.48        37\n",
            "        32.0       0.68      0.84      0.75        38\n",
            "        33.0       0.86      0.79      0.83        24\n",
            "        34.0       0.69      0.38      0.49        52\n",
            "        35.0       0.59      0.77      0.67        31\n",
            "        36.0       0.83      0.30      0.44        33\n",
            "        37.0       0.23      0.35      0.28        26\n",
            "        38.0       0.90      0.35      0.50        26\n",
            "        39.0       0.54      0.77      0.64        48\n",
            "\n",
            "    accuracy                           0.66      1439\n",
            "   macro avg       0.71      0.65      0.65      1439\n",
            "weighted avg       0.71      0.66      0.66      1439\n",
            "\n",
            "0.6594857539958304\n"
          ]
        },
        {
          "output_type": "execute_result",
          "data": {
            "text/plain": [
              "<matplotlib.image.AxesImage at 0x7f77f4444610>"
            ]
          },
          "metadata": {},
          "execution_count": 63
        },
        {
          "output_type": "display_data",
          "data": {
            "image/png": "[encoded data removed]",
            "text/plain": [
              "<Figure size 288x288 with 1 Axes>"
            ]
          },
          "metadata": {
            "needs_background": "light"
          }
        }
      ]
    },
    {
      "cell_type": "code",
      "source": [
        ""
      ],
      "metadata": {
        "id": "oKbAy0VyIO8C"
      },
      "execution_count": null,
      "outputs": []
    },
    {
      "cell_type": "code",
      "source": [
        ""
      ],
      "metadata": {
        "id": "zZSy9UGXIO-k"
      },
      "execution_count": null,
      "outputs": []
    }
  ]
}